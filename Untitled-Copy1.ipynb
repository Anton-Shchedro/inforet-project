{
 "cells": [
  {
   "cell_type": "markdown",
   "metadata": {
    "pycharm": {
     "name": "#%% md\n"
    }
   },
   "source": [
    "The zip file contains a large json file structured as follows. There is a 'segments' key that contains a list of speeches from members of parliament from 1948 to 2020. There is a lot of meta-data associated with each speech.. For the project, all you need is the field 'text'. I suggest you split the file into multiple files one for each legislature. Consider only the speeches with the field 'score' greater than 2.5 (the other speeches are meaningless)."
   ]
  },
  {
   "cell_type": "code",
   "execution_count": 1,
   "metadata": {
    "pycharm": {
     "name": "#%%\n"
    },
    "tags": []
   },
   "outputs": [],
   "source": [
    "import pandas as pd\n",
    "import numpy as np\n",
    "import re"
   ]
  },
  {
   "cell_type": "code",
   "execution_count": 2,
   "metadata": {
    "pycharm": {
     "name": "#%%\n"
    },
    "tags": []
   },
   "outputs": [
    {
     "data": {
      "text/html": [
       "<div>\n",
       "<style scoped>\n",
       "    .dataframe tbody tr th:only-of-type {\n",
       "        vertical-align: middle;\n",
       "    }\n",
       "\n",
       "    .dataframe tbody tr th {\n",
       "        vertical-align: top;\n",
       "    }\n",
       "\n",
       "    .dataframe thead th {\n",
       "        text-align: right;\n",
       "    }\n",
       "</style>\n",
       "<table border=\"1\" class=\"dataframe\">\n",
       "  <thead>\n",
       "    <tr style=\"text-align: right;\">\n",
       "      <th></th>\n",
       "      <th>segments</th>\n",
       "    </tr>\n",
       "  </thead>\n",
       "  <tbody>\n",
       "    <tr>\n",
       "      <th>0</th>\n",
       "      <td>{'segment': 0, 'tag': 'RESOCONTO', 'start': 'R...</td>\n",
       "    </tr>\n",
       "    <tr>\n",
       "      <th>1</th>\n",
       "      <td>{'segment': 1, 'tag': 'SEDUTA', 'start': 'SEDU...</td>\n",
       "    </tr>\n",
       "    <tr>\n",
       "      <th>2</th>\n",
       "      <td>{'segment': 2, 'tag': 'PRESIDENZA', 'start': '...</td>\n",
       "    </tr>\n",
       "    <tr>\n",
       "      <th>3</th>\n",
       "      <td>{'segment': 3, 'tag': 'RESOCONTO', 'start': 'R...</td>\n",
       "    </tr>\n",
       "    <tr>\n",
       "      <th>4</th>\n",
       "      <td>{'segment': 4, 'tag': 'XVII', 'start': 'XVII L...</td>\n",
       "    </tr>\n",
       "    <tr>\n",
       "      <th>...</th>\n",
       "      <td>...</td>\n",
       "    </tr>\n",
       "    <tr>\n",
       "      <th>2348714</th>\n",
       "      <td>{'segment': 182, 'tag': 'LEGISLATURA', 'start'...</td>\n",
       "    </tr>\n",
       "    <tr>\n",
       "      <th>2348715</th>\n",
       "      <td>{'segment': 183, 'tag': 'PRESIDENTE', 'start':...</td>\n",
       "    </tr>\n",
       "    <tr>\n",
       "      <th>2348716</th>\n",
       "      <td>{'segment': 184, 'tag': 'BERLINGUER', 'start':...</td>\n",
       "    </tr>\n",
       "    <tr>\n",
       "      <th>2348717</th>\n",
       "      <td>{'segment': 186, 'tag': 'PRESIDENTE', 'start':...</td>\n",
       "    </tr>\n",
       "    <tr>\n",
       "      <th>2348718</th>\n",
       "      <td>{'segment': 187, 'tag': 'TRIPODI', 'start': 'T...</td>\n",
       "    </tr>\n",
       "  </tbody>\n",
       "</table>\n",
       "<p>2348719 rows × 1 columns</p>\n",
       "</div>"
      ],
      "text/plain": [
       "                                                  segments\n",
       "0        {'segment': 0, 'tag': 'RESOCONTO', 'start': 'R...\n",
       "1        {'segment': 1, 'tag': 'SEDUTA', 'start': 'SEDU...\n",
       "2        {'segment': 2, 'tag': 'PRESIDENZA', 'start': '...\n",
       "3        {'segment': 3, 'tag': 'RESOCONTO', 'start': 'R...\n",
       "4        {'segment': 4, 'tag': 'XVII', 'start': 'XVII L...\n",
       "...                                                    ...\n",
       "2348714  {'segment': 182, 'tag': 'LEGISLATURA', 'start'...\n",
       "2348715  {'segment': 183, 'tag': 'PRESIDENTE', 'start':...\n",
       "2348716  {'segment': 184, 'tag': 'BERLINGUER', 'start':...\n",
       "2348717  {'segment': 186, 'tag': 'PRESIDENTE', 'start':...\n",
       "2348718  {'segment': 187, 'tag': 'TRIPODI', 'start': 'T...\n",
       "\n",
       "[2348719 rows x 1 columns]"
      ]
     },
     "execution_count": 2,
     "metadata": {},
     "output_type": "execute_result"
    }
   ],
   "source": [
    "df = pd.read_json('../speeches.json',orient='records')\n",
    "df"
   ]
  },
  {
   "cell_type": "code",
   "execution_count": 3,
   "metadata": {
    "pycharm": {
     "name": "#%%\n"
    },
    "tags": []
   },
   "outputs": [
    {
     "data": {
      "text/plain": [
       "{'segment': 0,\n",
       " 'tag': 'RESOCONTO',\n",
       " 'start': 'RESOCONTO STENOGRAFICO',\n",
       " 'president': 0.128916308276516,\n",
       " 'page': 0.032191545690914,\n",
       " 'len': 2,\n",
       " 'score': 1.484956310433453,\n",
       " 'year': 2015,\n",
       " 'month': 6,\n",
       " 'day': 8,\n",
       " 'leg': 17,\n",
       " 'id': 370,\n",
       " 'convocation': 25231,\n",
       " 'date': '2015-06-08 00:00:00',\n",
       " 'title': 'Seduta di lunedì 8 giugno 2015',\n",
       " 'text': 'RESOCONTO STENOGRAFICO 437. ',\n",
       " 'presidenza': False,\n",
       " 'speech': False}"
      ]
     },
     "execution_count": 3,
     "metadata": {},
     "output_type": "execute_result"
    }
   ],
   "source": [
    "df.iloc[0].to_dict()['segments']"
   ]
  },
  {
   "cell_type": "markdown",
   "metadata": {
    "pycharm": {
     "name": "#%% md\n"
    }
   },
   "source": [
    "{\"segment\": 0, \"tag\": \"RESOCONTO\", \"start\": \"RESOCONTO STENOGRAFICO\", \"president\": 0.12891630827651634, \"page\": 0.032191545690914675, \"len\": 2, \"score\": 1.4849563104334538, \"year\": 2015, \"month\": 6, \"day\": 8, \"leg\": 17, \"id\": 370, \"convocation\": 25231, \"date\": \"2015-06-08 00:00:00\", \"title\": \"Seduta di luned\\u00ec 8 giugno 2015\", \"text\": \"RESOCONTO STENOGRAFICO 437. \", \"presidenza\": false, \"speech\": false},"
   ]
  },
  {
   "cell_type": "code",
   "execution_count": 4,
   "metadata": {
    "pycharm": {
     "name": "#%%\n"
    },
    "tags": []
   },
   "outputs": [],
   "source": [
    "from IPython.display import clear_output\n",
    "\n",
    "data = []\n",
    "l = len(df.index)\n",
    "for index in range(l):\n",
    "    info = df.iloc[index].to_dict()['segments']\n",
    "    data.append(info)\n",
    "    if index%1000==0:\n",
    "        clear_output(wait=True)\n",
    "        print('done '+str(index)+'/'+str(l)+'    '+str((index/l)*100)+'%')\n",
    "\n",
    "clear_output(wait=False)\n",
    "text = pd.DataFrame.from_dict(data)\n",
    "text = text[text['score']>2.5]"
   ]
  },
  {
   "cell_type": "code",
   "execution_count": 5,
   "metadata": {
    "pycharm": {
     "name": "#%%\n"
    },
    "tags": []
   },
   "outputs": [
    {
     "data": {
      "text/plain": [
       "segment                                                        352\n",
       "tag                                                      FRANCESCO\n",
       "start                               FRANCESCO MONACO. La prima do-\n",
       "president                                                 0.055345\n",
       "page                                                       0.06436\n",
       "len                                                             20\n",
       "score                                                     4.471383\n",
       "year                                                          2000\n",
       "month                                                            9\n",
       "day                                                             26\n",
       "leg                                                             13\n",
       "id                                                              33\n",
       "convocation                                                  22923\n",
       "date                                           2000-09-26 00:00:00\n",
       "title                   Seduta n. 777 di martedì 26 settembre 2000\n",
       "text             FRANCESCO MONACO. La prima domanda è la segue...\n",
       "presidenza                                                   False\n",
       "speech                                                        True\n",
       "dep                                                         8927.0\n",
       "surname                                                     MONACO\n",
       "name                                                     FRANCESCO\n",
       "persona               http://dati.camera.it/ocd/persona.rdf/p50047\n",
       "cognome                                                     MONACO\n",
       "nome                                                     FRANCESCO\n",
       "info               Laurea in scienze politiche; dirigente pubblico\n",
       "dataNascita                                             1951-05-15\n",
       "luogoNascita                                               LEGNANO\n",
       "genere                                                        male\n",
       "nomeGruppo       DEMOCRATICI - L'ULIVO (DEM-U) (31.03.1999-29.0...\n",
       "inizioMandato                                           1996-05-02\n",
       "fineMandato                                             2001-05-29\n",
       "collegio                                               LOMBARDIA 1\n",
       "numeroMandati                                                  4.0\n",
       "aggiornamento                                  2020-11-05 12:22:33\n",
       "legislatura                                                   13.0\n",
       "Name: 237151, dtype: object"
      ]
     },
     "execution_count": 5,
     "metadata": {},
     "output_type": "execute_result"
    }
   ],
   "source": [
    "text.iloc[121235]"
   ]
  },
  {
   "cell_type": "markdown",
   "metadata": {},
   "source": [
    "## Info about deputy (Legislator) and ministers"
   ]
  },
  {
   "cell_type": "code",
   "execution_count": 6,
   "metadata": {},
   "outputs": [
    {
     "data": {
      "text/html": [
       "<div>\n",
       "<style scoped>\n",
       "    .dataframe tbody tr th:only-of-type {\n",
       "        vertical-align: middle;\n",
       "    }\n",
       "\n",
       "    .dataframe tbody tr th {\n",
       "        vertical-align: top;\n",
       "    }\n",
       "\n",
       "    .dataframe thead th {\n",
       "        text-align: right;\n",
       "    }\n",
       "</style>\n",
       "<table border=\"1\" class=\"dataframe\">\n",
       "  <thead>\n",
       "    <tr style=\"text-align: right;\">\n",
       "      <th></th>\n",
       "      <th>persona</th>\n",
       "      <th>surname</th>\n",
       "      <th>name</th>\n",
       "      <th>dataInizio</th>\n",
       "      <th>dataFine</th>\n",
       "      <th>carica</th>\n",
       "      <th>nomeOrganoGoverno</th>\n",
       "    </tr>\n",
       "  </thead>\n",
       "  <tbody>\n",
       "    <tr>\n",
       "      <th>0</th>\n",
       "      <td>http://dati.camera.it/ocd/persona.rdf/p10000</td>\n",
       "      <td>RESCIGNO</td>\n",
       "      <td>MATTEO</td>\n",
       "      <td>1948-04-27</td>\n",
       "      <td>1953-06-24</td>\n",
       "      <td>NaN</td>\n",
       "      <td>NaN</td>\n",
       "    </tr>\n",
       "    <tr>\n",
       "      <th>1</th>\n",
       "      <td>http://dati.camera.it/ocd/persona.rdf/p1000</td>\n",
       "      <td>BONOMI</td>\n",
       "      <td>PAOLO</td>\n",
       "      <td>1948-04-27</td>\n",
       "      <td>1953-06-24</td>\n",
       "      <td>NaN</td>\n",
       "      <td>NaN</td>\n",
       "    </tr>\n",
       "    <tr>\n",
       "      <th>2</th>\n",
       "      <td>http://dati.camera.it/ocd/persona.rdf/p1000</td>\n",
       "      <td>BONOMI</td>\n",
       "      <td>PAOLO</td>\n",
       "      <td>1953-06-15</td>\n",
       "      <td>1958-06-11</td>\n",
       "      <td>NaN</td>\n",
       "      <td>NaN</td>\n",
       "    </tr>\n",
       "    <tr>\n",
       "      <th>3</th>\n",
       "      <td>http://dati.camera.it/ocd/persona.rdf/p1000</td>\n",
       "      <td>BONOMI</td>\n",
       "      <td>PAOLO</td>\n",
       "      <td>1958-06-03</td>\n",
       "      <td>1963-05-15</td>\n",
       "      <td>NaN</td>\n",
       "      <td>NaN</td>\n",
       "    </tr>\n",
       "    <tr>\n",
       "      <th>4</th>\n",
       "      <td>http://dati.camera.it/ocd/persona.rdf/p10010</td>\n",
       "      <td>RICCI</td>\n",
       "      <td>MARIO</td>\n",
       "      <td>1948-04-23</td>\n",
       "      <td>1953-06-24</td>\n",
       "      <td>NaN</td>\n",
       "      <td>NaN</td>\n",
       "    </tr>\n",
       "    <tr>\n",
       "      <th>...</th>\n",
       "      <td>...</td>\n",
       "      <td>...</td>\n",
       "      <td>...</td>\n",
       "      <td>...</td>\n",
       "      <td>...</td>\n",
       "      <td>...</td>\n",
       "      <td>...</td>\n",
       "    </tr>\n",
       "    <tr>\n",
       "      <th>21016</th>\n",
       "      <td>http://dati.camera.it/ocd/persona.rdf/p306702</td>\n",
       "      <td>TOSATO</td>\n",
       "      <td>PAOLO</td>\n",
       "      <td>2014-07-02</td>\n",
       "      <td>2099-01-01</td>\n",
       "      <td>NaN</td>\n",
       "      <td>NaN</td>\n",
       "    </tr>\n",
       "    <tr>\n",
       "      <th>21017</th>\n",
       "      <td>http://dati.camera.it/ocd/persona.rdf/p306900</td>\n",
       "      <td>BOCCARDI</td>\n",
       "      <td>MICHELE</td>\n",
       "      <td>2015-09-08</td>\n",
       "      <td>2099-01-01</td>\n",
       "      <td>NaN</td>\n",
       "      <td>NaN</td>\n",
       "    </tr>\n",
       "    <tr>\n",
       "      <th>21018</th>\n",
       "      <td>http://dati.camera.it/ocd/persona.rdf/p307896</td>\n",
       "      <td>SEGRE</td>\n",
       "      <td>LILIANA</td>\n",
       "      <td>2018-01-19</td>\n",
       "      <td>2099-01-01</td>\n",
       "      <td>NaN</td>\n",
       "      <td>NaN</td>\n",
       "    </tr>\n",
       "    <tr>\n",
       "      <th>21019</th>\n",
       "      <td>http://dati.camera.it/ocd/persona.rdf/p308320</td>\n",
       "      <td>ALESSANDRINI</td>\n",
       "      <td>VALERIA</td>\n",
       "      <td>2020-03-12</td>\n",
       "      <td>2099-01-01</td>\n",
       "      <td>NaN</td>\n",
       "      <td>NaN</td>\n",
       "    </tr>\n",
       "    <tr>\n",
       "      <th>21020</th>\n",
       "      <td>http://dati.camera.it/ocd/persona.rdf/p308700</td>\n",
       "      <td>DE ANGELIS</td>\n",
       "      <td>FAUSTO</td>\n",
       "      <td>2022-03-29</td>\n",
       "      <td>2099-01-01</td>\n",
       "      <td>NaN</td>\n",
       "      <td>NaN</td>\n",
       "    </tr>\n",
       "  </tbody>\n",
       "</table>\n",
       "<p>21021 rows × 7 columns</p>\n",
       "</div>"
      ],
      "text/plain": [
       "                                             persona       surname     name  \\\n",
       "0       http://dati.camera.it/ocd/persona.rdf/p10000      RESCIGNO   MATTEO   \n",
       "1        http://dati.camera.it/ocd/persona.rdf/p1000        BONOMI    PAOLO   \n",
       "2        http://dati.camera.it/ocd/persona.rdf/p1000        BONOMI    PAOLO   \n",
       "3        http://dati.camera.it/ocd/persona.rdf/p1000        BONOMI    PAOLO   \n",
       "4       http://dati.camera.it/ocd/persona.rdf/p10010         RICCI    MARIO   \n",
       "...                                              ...           ...      ...   \n",
       "21016  http://dati.camera.it/ocd/persona.rdf/p306702        TOSATO    PAOLO   \n",
       "21017  http://dati.camera.it/ocd/persona.rdf/p306900      BOCCARDI  MICHELE   \n",
       "21018  http://dati.camera.it/ocd/persona.rdf/p307896         SEGRE  LILIANA   \n",
       "21019  http://dati.camera.it/ocd/persona.rdf/p308320  ALESSANDRINI  VALERIA   \n",
       "21020  http://dati.camera.it/ocd/persona.rdf/p308700    DE ANGELIS   FAUSTO   \n",
       "\n",
       "      dataInizio   dataFine carica nomeOrganoGoverno  \n",
       "0     1948-04-27 1953-06-24    NaN               NaN  \n",
       "1     1948-04-27 1953-06-24    NaN               NaN  \n",
       "2     1953-06-15 1958-06-11    NaN               NaN  \n",
       "3     1958-06-03 1963-05-15    NaN               NaN  \n",
       "4     1948-04-23 1953-06-24    NaN               NaN  \n",
       "...          ...        ...    ...               ...  \n",
       "21016 2014-07-02 2099-01-01    NaN               NaN  \n",
       "21017 2015-09-08 2099-01-01    NaN               NaN  \n",
       "21018 2018-01-19 2099-01-01    NaN               NaN  \n",
       "21019 2020-03-12 2099-01-01    NaN               NaN  \n",
       "21020 2022-03-29 2099-01-01    NaN               NaN  \n",
       "\n",
       "[21021 rows x 7 columns]"
      ]
     },
     "execution_count": 6,
     "metadata": {},
     "output_type": "execute_result"
    }
   ],
   "source": [
    "# load info about deputy\n",
    "df1 = pd.read_csv('parlamentari0x.csv')\n",
    "df2 = pd.read_csv('parlamentari1x.csv')\n",
    "dfp = pd.concat([df1, df2], ignore_index=True)\n",
    "# transform date from int to date format\n",
    "dfp['inizioMandato'] = pd.to_datetime(dfp['inizioMandato'], format=\"%Y%m%d\")\n",
    "dfp['fineMandato'] = dfp['fineMandato'].fillna(20990101)  # if person is currently active use placeholder as end date \n",
    "dfp['fineMandato'] = pd.to_datetime(dfp['fineMandato'], format=\"%Y%m%d\")\n",
    "# loan info about senators\n",
    "df1 = pd.read_csv('senato0x.csv')\n",
    "df2 = pd.read_csv('senato1x.csv')\n",
    "dfs = pd.concat([df1, df2], ignore_index=True)\n",
    "dfs['inizioMandato'] = pd.to_datetime(dfs['inizioMandato'], format=\"%Y%m%d\")\n",
    "dfs['fineMandato'] = dfs['fineMandato'].fillna(20990101)  # if person is currently active use placeholder as end date \n",
    "dfs['fineMandato'] = pd.to_datetime(dfs['fineMandato'], format=\"%Y%m%d\")\n",
    "# load info about ministers\n",
    "df1 = pd.read_csv('ministri0x.csv')\n",
    "df2 = pd.read_csv('ministri1x.csv')\n",
    "dfm = pd.concat([df1, df2], ignore_index=True)\n",
    "# rename some colums (to be abble to concat)\n",
    "dfm = dfm.rename(columns={\"d\": \"persona\"})\n",
    "dfp = dfp.rename(columns={\"inizioMandato\": \"dataInizio\", \"fineMandato\": \"dataFine\"})\n",
    "dfs = dfs.rename(columns={\"inizioMandato\": \"dataInizio\", \"fineMandato\": \"dataFine\"})\n",
    "# replace ministers link to it's personal link (have same numerical number, need only to change prefix and remove '_xx')\n",
    "for i, d in dfm.iterrows():\n",
    "    m = re.search('deputato.rdf/d(.+?)_', d['persona'])\n",
    "    dfm.at[i,'persona'] = 'http://dati.camera.it/ocd/persona.rdf/p'+m.group(1)\n",
    "# transform date from int to date format   \n",
    "dfm['dataInizio'] = pd.to_datetime(dfm['dataInizio'], format=\"%Y%m%d\")\n",
    "dfm['dataFine'] = dfm['dataFine'].fillna(20990101)\n",
    "dfm['dataFine'] = pd.to_datetime(dfm['dataFine'], format=\"%Y%m%d\")\n",
    "# need only some colums\n",
    "dfp = dfp[['persona','cognome','nome','dataInizio','dataFine']]\n",
    "dfm = dfm[['persona','cognome','nome','dataInizio','dataFine','carica','nomeOrganoGoverno']]\n",
    "# final concat into one df\n",
    "filtered_personnel = pd.concat([dfp, dfm, dfs], ignore_index=True)\n",
    "filtered_personnel = filtered_personnel.rename(columns={\"cognome\": \"surname\", \"nome\": \"name\"})\n",
    "filtered_personnel =  filtered_personnel[['persona','surname','name','dataInizio','dataFine','carica','nomeOrganoGoverno']]\n",
    "filtered_personnel"
   ]
  },
  {
   "cell_type": "code",
   "execution_count": 7,
   "metadata": {
    "pycharm": {
     "name": "#%%\n"
    },
    "tags": []
   },
   "outputs": [],
   "source": [
    "text2 = text[['text','persona','date','surname','name']].sample(1000)\n",
    "text2 = text2.reset_index(drop=True)"
   ]
  },
  {
   "cell_type": "code",
   "execution_count": 8,
   "metadata": {},
   "outputs": [],
   "source": [
    "text = text.reset_index(drop=True)"
   ]
  },
  {
   "cell_type": "code",
   "execution_count": 9,
   "metadata": {
    "pycharm": {
     "name": "#%%\n"
    },
    "tags": []
   },
   "outputs": [
    {
     "data": {
      "text/html": [
       "<div>\n",
       "<style scoped>\n",
       "    .dataframe tbody tr th:only-of-type {\n",
       "        vertical-align: middle;\n",
       "    }\n",
       "\n",
       "    .dataframe tbody tr th {\n",
       "        vertical-align: top;\n",
       "    }\n",
       "\n",
       "    .dataframe thead th {\n",
       "        text-align: right;\n",
       "    }\n",
       "</style>\n",
       "<table border=\"1\" class=\"dataframe\">\n",
       "  <thead>\n",
       "    <tr style=\"text-align: right;\">\n",
       "      <th></th>\n",
       "      <th>persona</th>\n",
       "      <th>surname</th>\n",
       "      <th>name</th>\n",
       "      <th>dataInizio</th>\n",
       "      <th>dataFine</th>\n",
       "      <th>carica</th>\n",
       "      <th>nomeOrganoGoverno</th>\n",
       "    </tr>\n",
       "  </thead>\n",
       "  <tbody>\n",
       "    <tr>\n",
       "      <th>45</th>\n",
       "      <td>http://dati.camera.it/ocd/persona.rdf/p10330</td>\n",
       "      <td>SCIORILLI BORRELLI</td>\n",
       "      <td>RAFFAELE</td>\n",
       "      <td>1953-06-17</td>\n",
       "      <td>1958-06-11</td>\n",
       "      <td>NaN</td>\n",
       "      <td>NaN</td>\n",
       "    </tr>\n",
       "    <tr>\n",
       "      <th>46</th>\n",
       "      <td>http://dati.camera.it/ocd/persona.rdf/p10330</td>\n",
       "      <td>SCIORILLI BORRELLI</td>\n",
       "      <td>RAFFAELE</td>\n",
       "      <td>1958-06-18</td>\n",
       "      <td>1963-05-15</td>\n",
       "      <td>NaN</td>\n",
       "      <td>NaN</td>\n",
       "    </tr>\n",
       "  </tbody>\n",
       "</table>\n",
       "</div>"
      ],
      "text/plain": [
       "                                         persona             surname  \\\n",
       "45  http://dati.camera.it/ocd/persona.rdf/p10330  SCIORILLI BORRELLI   \n",
       "46  http://dati.camera.it/ocd/persona.rdf/p10330  SCIORILLI BORRELLI   \n",
       "\n",
       "        name dataInizio   dataFine carica nomeOrganoGoverno  \n",
       "45  RAFFAELE 1953-06-17 1958-06-11    NaN               NaN  \n",
       "46  RAFFAELE 1958-06-18 1963-05-15    NaN               NaN  "
      ]
     },
     "execution_count": 9,
     "metadata": {},
     "output_type": "execute_result"
    }
   ],
   "source": [
    "filtered_personnel.loc[filtered_personnel['surname'] == \"SCIORILLI BORRELLI\"]"
   ]
  },
  {
   "cell_type": "markdown",
   "metadata": {
    "pycharm": {
     "name": "#%% md\n"
    }
   },
   "source": [
    "Method 3: http://norvig.com/spell-correct.html"
   ]
  },
  {
   "cell_type": "code",
   "execution_count": 10,
   "metadata": {
    "pycharm": {
     "name": "#%%\n"
    }
   },
   "outputs": [],
   "source": [
    "from collections import Counter\n",
    "def words(text): return re.findall(r'\\w+', text.upper())\n",
    "SURNAME = Counter(words(' '.join(filtered_personnel['surname'])))\n",
    "NAME = Counter(words(' '.join(filtered_personnel['name'])))\n",
    "WORDS = SURNAME"
   ]
  },
  {
   "cell_type": "code",
   "execution_count": 11,
   "metadata": {
    "pycharm": {
     "name": "#%%\n"
    }
   },
   "outputs": [],
   "source": [
    "def P(word, N=sum(WORDS.values())): \n",
    "    \"Probability of `word`.\"\n",
    "    return WORDS[word] / N\n",
    "\n",
    "def correction(word): \n",
    "    \"Most probable spelling correction for word.\"\n",
    "    return max(candidates(word), key=P)\n",
    "\n",
    "def candidates(word): \n",
    "    \"Generate possible spelling corrections for word.\"\n",
    "    return (known([word]) or known(edits1(word)) or known(edits2(word)) or [word])\n",
    "\n",
    "def known(words): \n",
    "    \"The subset of `words` that appear in the dictionary of WORDS.\"\n",
    "    return set(w for w in words if w in WORDS)\n",
    "\n",
    "def edits1(word):\n",
    "    \"All edits that are one edit away from `word`.\"\n",
    "    letters    = \"abcdefghijklmnopqrstuvwxyz'\".upper()\n",
    "    splits     = [(word[:i], word[i:])    for i in range(len(word) + 1)]\n",
    "    deletes    = [L + R[1:]               for L, R in splits if R]\n",
    "    transposes = [L + R[1] + R[0] + R[2:] for L, R in splits if len(R)>1]\n",
    "    replaces   = [L + c + R[1:]           for L, R in splits if R for c in letters]\n",
    "    inserts    = [L + c + R               for L, R in splits for c in letters]\n",
    "    return set(deletes + transposes + replaces + inserts)\n",
    "\n",
    "def edits2(word): \n",
    "    \"All edits that are two edits away from `word`.\"\n",
    "    return (e2 for e1 in edits1(word) for e2 in edits1(e1))"
   ]
  },
  {
   "cell_type": "code",
   "execution_count": 12,
   "metadata": {
    "pycharm": {
     "name": "#%%\n"
    }
   },
   "outputs": [
    {
     "data": {
      "text/plain": [
       "'ROSSI'"
      ]
     },
     "execution_count": 12,
     "metadata": {},
     "output_type": "execute_result"
    }
   ],
   "source": [
    "correction('R0SSI')"
   ]
  },
  {
   "cell_type": "markdown",
   "metadata": {
    "pycharm": {
     "name": "#%% md\n"
    }
   },
   "source": [
    "## search with spelling correction"
   ]
  },
  {
   "cell_type": "code",
   "execution_count": 29,
   "metadata": {
    "pycharm": {
     "name": "#%%\n"
    },
    "tags": []
   },
   "outputs": [
    {
     "ename": "IndentationError",
     "evalue": "unexpected indent (2713420564.py, line 2)",
     "output_type": "error",
     "traceback": [
      "\u001b[1;36m  Input \u001b[1;32mIn [29]\u001b[1;36m\u001b[0m\n\u001b[1;33m    if len(words) > 2:\u001b[0m\n\u001b[1;37m    ^\u001b[0m\n\u001b[1;31mIndentationError\u001b[0m\u001b[1;31m:\u001b[0m unexpected indent\n"
     ]
    }
   ],
   "source": [
    "#def find_by_surname(words,personnel, corr):\n",
    "    if len(words) > 2:\n",
    "        sur = personnel[(personnel[\"surname\"] == words[0].upper()) #first word is surname\n",
    "                       | (personnel[\"surname\"] == words[1].upper()) #second word is surname\n",
    "                       | (personnel[\"surname\"] == words[2].upper()) #third word is surname\n",
    "                       | (personnel[\"surname\"] == (words[0]+' '+words[1]).upper()) #surname by multiple words\n",
    "                       | (personnel[\"surname\"] == (words[1]+' '+words[2]).upper())] #surname by multiple words\n",
    "    elif len(words) == 2:\n",
    "        sur = personnel[(personnel[\"surname\"] == words[0].upper()) #first word is surname\n",
    "                       | (personnel[\"surname\"] == words[1].upper()) #second word is surname\n",
    "                       | (personnel[\"surname\"] == (words[0]+' '+words[1]).upper())] #surname by multiple words\n",
    "    else:\n",
    "        sur = personnel[(personnel[\"surname\"] == words[0].upper())] #first word is surname\n",
    "    #if len(pd.unique(sur[\"surname\"])) > 1 and len(words) > 1: # if more then one surename in result, reduce up to first in text\n",
    "        #len(words) just as hedge against error\n",
    "    #    sur = find_by_surname(words[0:-1],sur, False)\n",
    "    if len(sur.index) == 0 and not corr:\n",
    "        corr = True\n",
    "        WORDS = SURNAME\n",
    "        words[0] = correction(words[0].upper())\n",
    "        if len(words) == 2:\n",
    "            words[1] = correction(words[1].upper())\n",
    "        elif len(words) > 2:\n",
    "            words[2] = correction(words[2].upper())\n",
    "        sur = find_by_surname(words,personnel,corr)\n",
    "    return sur\n",
    "\n",
    "#def find_by_name(words,personnel,corr):\n",
    "    if len(words) > 2:\n",
    "        sur = personnel[(personnel[\"name\"] == words[0].upper()) #first word is name\n",
    "                       | (personnel[\"name\"] == words[1].upper()) #second word is name\n",
    "                       | (personnel[\"name\"] == words[2].upper()) #third word is name\n",
    "                       | (personnel[\"name\"] == (words[0]+' '+words[1]).upper()) #name by multiple words\n",
    "                       | (personnel[\"name\"] == (words[1]+' '+words[2]).upper())] #name by multiple words\n",
    "    elif len(words) == 2:\n",
    "        sur = personnel[(personnel[\"name\"] == words[0].upper()) #first word is name\n",
    "                       | (personnel[\"name\"] == words[1].upper()) #second word is name\n",
    "                       | (personnel[\"name\"] == (words[0]+' '+words[1]).upper())] #name by multiple words\n",
    "    else:\n",
    "        sur = personnel[(personnel[\"name\"] == words[0].upper())] #first word is name\n",
    "    if len(pd.unique(sur[\"name\"])) > 1 and len(words) > 1: # if more then one surename in result, reduce up to first in text\n",
    "        #len(words) just as hedge against error\n",
    "        sur = find_by_name(words[0:-1],sur, False)\n",
    "    if len(sur.index) == 0 and not corr:\n",
    "        corr = True\n",
    "        WORDS = NAME\n",
    "        words[0] = correction(words[0].upper())\n",
    "        if len(words) == 2:\n",
    "            words[1] = correction(words[1].upper())\n",
    "        elif len(words) > 2:\n",
    "            words[2] = correction(words[2].upper())\n",
    "        sur = find_by_surname(words,personnel,corr)\n",
    "    return sur"
   ]
  },
  {
   "cell_type": "code",
   "execution_count": 28,
   "metadata": {
    "pycharm": {
     "name": "#%%\n"
    }
   },
   "outputs": [
    {
     "ename": "IndentationError",
     "evalue": "unexpected indent (1186805189.py, line 2)",
     "output_type": "error",
     "traceback": [
      "\u001b[1;36m  Input \u001b[1;32mIn [28]\u001b[1;36m\u001b[0m\n\u001b[1;33m    global phase\u001b[0m\n\u001b[1;37m    ^\u001b[0m\n\u001b[1;31mIndentationError\u001b[0m\u001b[1;31m:\u001b[0m unexpected indent\n"
     ]
    }
   ],
   "source": [
    "#def find_person(text, date, personnel):\n",
    "    global phase\n",
    "    global l\n",
    "    phase = \"char_replace\"\n",
    "    text = text.replace(\"À\",\"A'\")\n",
    "    text = text.replace(\"È\",\"E'\")\n",
    "    text = text.replace(\"É\",\"E'\")\n",
    "    text = text.replace(\"Ì\",\"I'\")\n",
    "    text = text.replace(\"Ò\",\"O'\")\n",
    "    text = text.replace(\"Ó\",\"O'\")\n",
    "    text = text.replace(\"Ù\",\"U'\")\n",
    "    phase = \"words\"\n",
    "    words = regex.sub('', text).split(maxsplit = 4)\n",
    "    if len(words)==0:\n",
    "        l -= 1\n",
    "        return None\n",
    "    while (not words[0].isalpha()):\n",
    "        words.pop(0)\n",
    "        if len(words) == 0:\n",
    "            return None\n",
    "        t = ' '.join(words)\n",
    "        words = regex.sub('', t).split(maxsplit = 4)\n",
    "    phase = \"date_search\"\n",
    "    date = personnel[(personnel[\"dataInizio\"] <= date) & (personnel[\"dataFine\"] >= date)]\n",
    "    if len(date.index) >= 1:\n",
    "        phase = \"sur_search\"\n",
    "        sur = find_by_surname(words, date, False)\n",
    "        #print(sur)\n",
    "        if len(sur.index) == 1:\n",
    "            return sur.iloc[0]['persona']\n",
    "        elif len(sur.index) > 1:\n",
    "            if len(pd.unique(sur['persona'])) == 1:\n",
    "                return sur.iloc[0]['persona']\n",
    "            elif len(words) > 1:\n",
    "                phase = \"name_search\"\n",
    "                name = find_by_name(words, sur, False)\n",
    "                #print('-------------------')\n",
    "                #print(name)\n",
    "                if len(name.index) == 1 or (len(name.index) > 1 and len(pd.unique(name['persona']))):\n",
    "                    return name.iloc[0]['persona']\n",
    "    else:#No person found with that surename with correction\n",
    "        return None"
   ]
  },
  {
   "cell_type": "code",
   "execution_count": 16,
   "metadata": {
    "pycharm": {
     "name": "#%%\n"
    }
   },
   "outputs": [
    {
     "name": "stdout",
     "output_type": "stream",
     "text": [
      "done 1190217/1197003    99.43308412760871%\n"
     ]
    },
    {
     "name": "stderr",
     "output_type": "stream",
     "text": [
      "IOPub message rate exceeded.\n",
      "The Jupyter server will temporarily stop sending output\n",
      "to the client in order to avoid crashing it.\n",
      "To change this limit, set the config variable\n",
      "`--ServerApp.iopub_msg_rate_limit`.\n",
      "\n",
      "Current values:\n",
      "ServerApp.iopub_msg_rate_limit=1000.0 (msgs/sec)\n",
      "ServerApp.rate_limit_window=3.0 (secs)\n",
      "\n"
     ]
    }
   ],
   "source": [
    "l = len(text.index)\n",
    "res = []\n",
    "\n",
    "regex = re.compile(\"[^a-zA-Z -']\")\n",
    "\n",
    "for index, row in text.iterrows():\n",
    "    #DEBUG\n",
    "    #if index%100==0:\n",
    "    clear_output(wait=True)\n",
    "    print('done '+str(index+1)+'/'+str(l)+'    '+str(((index+1)/l)*100)+'%')\n",
    "    #DEBUG\n",
    "    global phase\n",
    "    phase = \"search\"\n",
    "    person = find_person(row['text'], row['date'], filtered_personnel)\n",
    "    phase = \"take person data\"\n",
    "    predicted = filtered_personnel.loc[filtered_personnel['persona'] == person]\n",
    "    if person is not None:\n",
    "        pred_surname = predicted.iloc[0]['surname']\n",
    "        pred_name = predicted.iloc[0]['name']\n",
    "    else:\n",
    "        pred_surname = None\n",
    "        pred_name = None\n",
    "    phase = \"check if correct\"\n",
    "    if row[\"persona\"] == person:\n",
    "        correct = True\n",
    "    else:\n",
    "        correct = False\n",
    "    phase = \"append\"\n",
    "    \n",
    "    res.append({\"True persona\": row[\"persona\"], \"True name\": row[\"name\"], \"True surname\": row[\"surname\"],\n",
    "                \"Text\":row[\"text\"],  \"Correct\":correct, \"Predicted persona\": person,\n",
    "                \"Predicted surname\": pred_surname, \n",
    "                \"Predicted name\": pred_name})\n",
    "            \n",
    "clear_output(wait=True)\n",
    "print('DONE')\n",
    "result = pd.DataFrame.from_dict(res)\n",
    "result['Correct'].describe()"
   ]
  },
  {
   "cell_type": "code",
   "execution_count": 17,
   "metadata": {},
   "outputs": [
    {
     "data": {
      "text/plain": [
       "count     1197023\n",
       "unique          2\n",
       "top          True\n",
       "freq       935183\n",
       "Name: Correct, dtype: object"
      ]
     },
     "execution_count": 17,
     "metadata": {},
     "output_type": "execute_result"
    }
   ],
   "source": [
    "result['Correct'].describe()"
   ]
  },
  {
   "cell_type": "code",
   "execution_count": null,
   "metadata": {
    "pycharm": {
     "name": "#%%\n"
    },
    "scrolled": true,
    "tags": []
   },
   "outputs": [],
   "source": [
    "pd.set_option(\"display.max_rows\", None)\n",
    "result[result['Correct'] == False]"
   ]
  },
  {
   "cell_type": "code",
   "execution_count": null,
   "metadata": {
    "pycharm": {
     "name": "#%%\n"
    }
   },
   "outputs": [],
   "source": [
    "find_person(text2.iloc[63]['text'], text2.iloc[63]['date'], filtered_personnel)"
   ]
  },
  {
   "cell_type": "code",
   "execution_count": 37,
   "metadata": {
    "pycharm": {
     "name": "#%%\n"
    },
    "scrolled": true,
    "tags": []
   },
   "outputs": [
    {
     "data": {
      "text/plain": [
       "\"ABBATANGELO. Onorevole Presidente, onorevoli colleghi, signori del Governo, mi sarei meravigliato se fosse avvenuto il contrario, cioè se a questo dibattito importantissimo avessero partecipato tut ti i deputati della Campania e della Basilicata, per portare il loro contributo d i esperienza, di professionalità, di vita vissuta, direi, per cercare di emendare e d i migliorare un disegno di legge che, a parer nostro, certamente non soddisfa e non soddisferà mai le reali esigenze dei disoccupati napoletani e della Basilicata. Questo provvedimento è stato emanato , non tanto sotto l'incalzare degli eventi , non tanto in seguito alle manifestazioni d i protesta dei disoccupati napoletani, m a sotto forma di decreto-legge affinché potesse essere sperimentato e si potessero accontentare, con la sperimentazione , quelle forze politiche e sindacali che, con l'attuazione del provvedimento n . 760, si accingeranno in maniera monolitica, qua si in condizioni di monopolio, a gestire i l mercato del lavoro a livello nazionale . Con questo provvedimento noi abbiamo cercato, attraverso la sperimentazione, di comprendere come si andrà a finir e e lo abbiamo contrabbandato, per renderlo accettabile da parte delle masse meridionali, come una conversione in legge d i un decreto-legge, recante misure eccezionali per la tutela e lo sviluppo dell'occupazione nelle zone terremotate della Campania e della Basilicata. Ma se per un attimo noi scorressimo tutto l'articolato di questo disegno di legge, ci accorgeremmo ch e in favore del lavoro vero, autentico, be n poco è stato fatto - oserei dire che nulla è stato fatto -, se non predisporre dell e mansioni, che le commissioni regionali, l e commissioni circoscrizionali o subcornunali andranno a gestire nel mercato del la voro . Il provvedimento in esame è stato vara to ancora una volta sulla pelle di chi aspet tava una legge seria, che indicasse effetti vamente come, dove e quando gli interes sati sarebbero stati inseriti nel mondo del lavoro produttivo, senza assistenzialismo . Di fronte ad un provvedimento, che c i lascia perplessi, abbiamo presentato alcuni emendamenti che cercheremo di discutere bonariamente con i rappresentant i del Governo e con tutti i colleghi parlamentari affinché tutti insieme, spero, s i riesca ad approvare un provvedimento, nel modo migliore, per soddisfare chi d a esso si aspetta qualchecosa che salvaguardi i propri interessi . Nel timore che le mie parole possano risultare incomprensibili per chi mi ascolta, cercherò di essere un po' più chiaro, anche perché in questa assunzione comune di responsabilità nessuno poi possa giocare a scaricabarile con un coinvolgimento in negativo di questa o quella forza politi ca che si sarà attestata su una critica ser rata a questo provvedimento; soprattutto contro quelle forze politiche che stanno Atti Parlamentari – 28468 – cercando di evidenziare un fatto forse snobbato , forse non compreso dallo stes so Governo, vuoi per scarsa considerazio ne della disoccupazione meridionale e della Campania e della Basilicata in parti colare, vuoi per scarsa sensibilità rispett o ai grandi problemi che attanagliano le no stro genti . Per suffragare ciò che dico, prima di en trare nel merito, ricordo i commenti d i colleghi della maggioranza che in Commissione qualche giorno fa, discutendo d i questo disegno di legge, tennero ad evidenziare che si trattava di un provvedi mento meramente assistenziale e considerarono i disoccupati campani e della Basi licata come degli emeriti fannulloni ; forse questi onorevoli colleghi erano convinti , da esperienze passate tradottesi anch'ess e in puro e semplice assistenzialismo, senza alcuna finalizzazione, di introdurre il disoccupato in un tessuto produttivo, che oltretutto dia la certezza di una sistemazione definitiva . Questo provvedimento fu duramente contestato da certi collegh i della maggioranza, ma come deputato napoletano e meridionale posso dire che la gente meridionale non desidera più «provvedimenti tampone», creatori sol tanto di momentanee illusioni, o come s i usa spesso dire nella terminologia politica attuale, provvedimenti perversi, che han no soltanto riprodotto l'immagine di un popolo che desidera lavorare, ma che attraverso questi provvedimenti non riuscirà mai ad inserirsi nel tessuto produttivo. Abbiamo ottenuto che migliaia di disoccu pati andassero ad iscriversi nuovament e nelle liste di collocamento, in quelle list e di disponibilità inventate dal signor ministro del lavoro, che hanno raggiunto la cifra spaventosa, per il solo collocamento d i Napoli, di 110.000 disoccupati, cinquemila in più di quelli iscritti nelle liste ordinarie di disoccupazione; ma questi cinquemila erano gli iscritti per la prima volta. Ebbene, in queste liste di disponibilità, non si è capito ancora bene per che cosa sia la di sponibilità, tranne che – con una parola , molto generica e fumosa – per la «ricostruzione» . Oltre tutto di questi 110 mil a reiscritti in queste liste di disponibilità entro il 15 aprile, stando alle promesse del ministro del lavoro, le prime 1 .500 unità, dovrebbero essere avviati al lavoro e poi in un periodo più o meno breve, che va da maggio a giugno, dovrebbero essere prelevate dalle liste tante unità da arrivare all a cifra di diecimila. Cioè noi dovremmo avere in meno di due mesi diecimila unità av viate al lavoro. Non abbiamo compreso , credo che nessuna forza politica abbi a compreso dove, come, quando, diecimila persone potranno essere inserite, impiegate in questo tessuto produttivo, soprat tutto dove, in quale posto, in quale paese , regione, località, quartiere, borgata, dieci mila persone potranno essere inserite i n meno di due mesi, stando sempre alle pro messe del ministro del lavoro . I disoccupati hanno protestato, hanno protestato in maniera pesante. Non stiamo a discutere qui sulla legittimità o meno della loro protesta. Di qui a qualche momento discuteremo dei fatti che sono accaduti a Napoli qualche settimana fa . A nostro parere sarebbe stato più legittimo che qui si iniziasse una discussione diver sa, nella Camera dei deputati italiana su i metodi, prima di approvare norme di legge. Avremmo potuto discutere, che so, u n provvedimento – e ne sono stati presenta ti sia alla Camera che al Senato dal mio gruppo e dal gruppo della democrazia cri stiana – per ottenere il prepensionamento, quali il pensionamento anticipato dei dipendenti degli enti pubblici, dei militari, affinché attraverso questo meccanismo che avrebbe provocato vacanze nei qual i noi avremmo potuto creare la possibilità di inserimento di una forza lavoro di considerevole importanza, negli enti pubblici , negli enti statali . Avremmo potuto discutere insieme subito, senza attardarci, i l provvedimento per la costruzione dato che soltanto in tal modo noi potremo ave re dei dati più o meno precisi per poter sa pere dove, come e quando, inserire eventualmente la manodopera, specializzata e no. Avremmo potuto e dovuto discutere prima quel provvedimento, invece dell a riforma del collocamento, delle region i della Campania e della Basilicata (perché soltanto di questo si tratta e non di misure Atti Parlamentari - 28469 – Camera dei Deputat i VIII LEGISLATURA - DISCUSSIONI - SEDUTA DELL'8 APRILE 198 1 incentivanti per l'occupazione) . Ebbene, tutto questo non è stato fatto. Perché? Perché – torno a ripetere – si è voluto introdurre questa sperimentazione per soddisfare le richieste di forza politiche o sinda cali che intendono fare, attraverso la sperimentazione di un collocamento, pesante, contestato, acceso, il tentativo di mono polizzare il mercato del lavoro di tutta l'Italia. Ecco – come avevo preannunziato – quanto è successo a Napoli . Risposte ne sono state date, ma sono state risposte frammentarie, molto spesso incomprensibili, che hanno lasciato l 'amaro in bocca . Qualche settimana fa il ministro del lavoro venne a Napoli per dare certe garanzie , dichiarando che avrebbe sistemato in una determinata maniera 10 mila persone ; garanzie che poi non si sono potute mante nere a causa della pressione di certe forz e politiche e sindacali, che hanno accusato il governo di debolezza per avere dat o queste garanzie e hanno fatto sì che il signor ministro del lavoro dovesse fare precipitosamente macchina indietro, pu r mantenendo la genericità di certe pro messe. Questo fatto ha scatenato una massa enorme di disoccupati, che attraverso le promesse del signor ministro del lavoro avevano avuto la parvenza di una garanzi a per un loro insediamento in questo tessu to produttivo. Di fronte all'eterno gioco di ping-pon g tra il ministro del lavoro, le forze sindaca li, certe forze politiche favorevoli all'inserimento di questi disoccupati, altre forze politiche non favorevoli al loro inserimento ma allo stravolgimento di una lista o alla creazione di una lista eccetera, si è scatenato a Napoli un qualcosa di veramente pesante. La repressione si è abbattuta, allora, i n maniera pesantissima, tanto che abbiam o assistito ad una serie di arresti che no n era mai avvenuti negli ultimi 30 anni della pur tormentata nostra storia: è stato arrestato un disoccupato una sera, 33 disoccu pati il giorno successivo, 106 disoccupat i il giorno ancora successivo. Si tratta, cioè , di una enorme forza di lavoratori, che sono stati ristretti al di là di quello ch e hanno potuto commettere, che sono stati ristretti solo perché avevano compreso — attraverso le promesse sottoscritte anch e da un ministro – che la loro situazione di soccupazionale sarebbe finita di lì a qualche settimana o a qualche mese . Oltre tutto il maglio pesante della legge si è abbattuto addosso a questi disoccupati in maniera inusitata, dal momento che molti di loro sono ancora ristretti in carcere, dato che non si è usato nei loro con fronti – come invece è avvenuto spesso – il rito per direttissima, ma l'istruttoria sommaria; il che sta a significare che chi si trova in carcere ci dovrà restare ancora per parecchie settimane . Tutto ciò è avvenuto, signori del Gover no, perché questa gente ha protestato, for se – ripeto – al di là delle proprie intenzio ni, per esigere un qualcosa che è riconosciuto dalla stessa Costituzione, cioè il la voro; lavoro che non viene garantito or mai più da nessuno, ma che anzi viene osteggiato, se è vero come è vero che la po litica delle partecipazioni statali a Napoli tende addirittura – ed è cosa abnorme – a privatizzare certi stabilimenti, come la Cementir ed altri, che in questa occasione, si gnori del Governo, onorevoli colleghi potrebbero dare una grossissima man o all'avvio della ricostruzione delle zone terremotate della Campania e della Basilicata, e potrebbero soprattutto riprender e quel ciclo produttivo che da troppi anni è sceso al di sotto del livello di guardia, che ha messo in stato di allarme la stessa forza-lavoro di questi stabilimenti e che ha messo in cassa integrazione migliaia e migliaia di lavoratori a causa del calo di produttività, dovuto all'inefficienza e all 'impossibilità di collocare i prodotti sul mercato . , Ebbene, in questa occasione, lo Stat o che, attraverso le partecipazioni statali , poteva a doveva intervenire per smentire tutto ciò, tenta ancora una volta di privatizzare un settore tanto importante, dandolo oltretutto in mano a gente che, anco ra una volta, si è gettata come condor , come falchi, come sciacalli, su Napoli, cos ì come ha fatto, negli ultimi anni in tutte le Atti Parlamentari – 28470 – Camera dei Deputati VIII LEGISLATURA - DISCUSSIONI - SEDUTA DELL'8 APRILE 1981 zone terremotate d'Italia, per accaparrare, facendo cose veramente indegne, aven do capito che, approfittando di questo sconvolgimento, può creare fortune personali, con la complicità di certi partiti politici che hanno nell'occasione creato un tessuto commerciale sotterraneo che permette a certe famiglie, locali e non, di arricchirsi sulle sciagure di questa gente . Tutto questo non deve più avvenire . Tutti i costruttori, italiani o esteri, di prefabbricati stanno facendo la fila all a prefettura, alla provincia, in tutti i comuni terremotati della Campania e della Basilicata, promettendo questo o quel prefabbricato, questa o quella casetta prefabbri cata, il prefabbricato pesante e quello leggero: sono arrivate tonnellate di dossier, ognuno di noi rappresentante politico è stato sommerso, fortunatamente per posta, da quintali di depliant, che raffigurano questo o quel prefabbricato, offrono le mi gliori condizioni di pagamento. Questo è indegno, tanto più che, a quat tro mesi dall'evento sismico del novembre del 1980, il Governo è latitante, anche attraverso il suo commissario straordinario; il Governo non è intervenuto, non in tende intervenire, cerca di dare deleghe d i intervento o di fare esperimenti : tutte cose che la gente meridionale non vuole . Noi vogliamo unicamente e soltanto una politica di intervento seria, tendente a rimodernare, ristrutturare, riconvertire un tessuto industriale che è ormai obsole to e fatiscente, non più in grado di tenere i mercati, sia interni che internazionali . E soprattutto vorremmo dal Governo una politica molto più chiara in tema di mercato del lavoro, molto più chiara di quell a che fino ad oggi ha condotto, anzi non ha condotto affatto . Stiamo rincorrendo con caparbia cocciutaggine il ripetersi del fallimento della legge n . 285. Infatti, con il decreto in esame faremo la stessa fine che abbiamo fatto con la legge n . 285, che ha saputo crear e soltanto disparità fra i giovani, i quali invece si attendevano da quel provvedimento una reale possibilità di inserimento ne l mondo del lavoro, possibilità che allora non si è realizzata: la legge parlava di corsi di riqualificazione professionale della durata di un anno, aggiungendo che tutti co loro che.li avessero completati, avrebber o dovuto essere iscritti nelle liste di collocamento, per essere sostituiti da altréttant i giovani nella frequenza dei corsi di riqualificazione . Tutto questo non è avvenuto per mancanza di chiarezza e per debolezza dell e forze politiche, di tutte le forze politiche , nessuna esclusa, e compresa, certo, anch e la nostra. Anche in quella circostanza ci siamo trovati di fronte a provvediment i che causavano disparità: chi ebbe la fortuna di essere inserito, grazie alla legge n . 285, in un corso di riqualificazione ha po i ottenuto, al termine del primo anno e attraverso proteste, minacce, promesse e così via, che quei corsi diventassero definitivi. E oggi, per sanare quella ulterior e disparità di trattamento abbiamo dovuto introdurre un emendamento, sotto forma di articolo 7, per cercare di aggiungere l a legge n . 285, perché l'unica regione che aveva rispettato la legge, la regione Basili cata, si è trovata a fronteggiare una situa zione che aveva creato malumore e males sere tra le forze lavoratrici giovanili . Esaminiamo ora in maniera veloce l'articolato. Nei vari articoli vi sono alcuni pass i che lasciano molte perplessità sulla possibilità di gestione di questa enorme forz a lavoro che si è ricreata attraverso la reiscrizione nel collocamento . Tali perplessità sono in merito alla formazione delle commissioni regionali, delle agenzie del lavoro, delle segreterie tecniche e dell e mansioni e prerogative loro attribuite . Nell'articolo 1-bis è contenuto qualcosa d i veramente pericoloso; se i colleghi prestassero per un attimo attenzione e se tutt i si ritenessero liberi da certe scelte obbligate o condizionate si renderebbero certamente conto della gravità di questo artico lo. In esso c 'è scritto: «I criteri e le procedure di iscrizione dei lavoratori, nelle liste per il collegamento ordinario e per la mobilità interaziendale e di avviamento al lavoro degli stessi, possono essere modificati o sostituiti dalle commissioni regional i per l'impiego, con delibera motivata, al fine di rendere detti criteri e procedure Atti Parlamentari - 28471 Camera dei Deputati . VIII LEGISLATURA - DISCUSSIONI - SEDUTA DELL'8 APRILE 198 1 maggiormente rispondenti alle esigenz e straordinarie della ricostruzione e dell o sviluppo economico delle regioni Campania e Basilicata». Ancora una volta, approfittando della straordinarietà del momento, si cerca di contrabbandare una norma , a nostro giudizio, pericolosissima, perch é quando si danno certi criteri di discrezionalità, in mano a certe commissioni rispondenti a certe esigenze politiche, s i compie un'azione grave . Cosa signific a «possono essere modificati e sostituiti» ? Significa che non avremo più alcuna garanzia di equità nella fissazione delle graduatorie, ma soprattutto quello che c i preoccupa è che si è lasciata tutta la discrezionalità a queste commissioni che , modificando o sostituendo, possono compiere arbitri. Anche se abbiamo voluto inserire in questo articolo la «delibera motivata», ben sappiamo che ognuno può trovare le motivazioni più appropriate al momento contingente e al fatto . La nostra terminologia è infatti tropp o vasta per poter essere contestata; ogni frase ed ogni discorso possono essere adatta ti al momento e possono essere da tutti interpretati, così come ognuno li vuole interpretare per poterli poi spiegar e all'esterno . Dovremo vagliare questa faccenda con attenzione, poiché rappresenta un momento di perplessità (e lo segnalo al collega relatore) che non può essere dettata soltanto dall'eccezionalità dell'evento ; soprattutto - attraverso questa discrezionalità - non possiamo eludere le norme fondamentali che regolano il mercato del lavoro. Come ha già detto il collega Napoletano, noi ci accingiamo a convertire un de creto-legge che si riferisce ad un altr o provvedimento non ancora approvato da l Parlamento; pertanto, ci potremo trovare nella situazione paradossale di vedere un provvedimento totalmente modificato dal Senato e rinviato alla Camera che, a su a volta, dovrebbe ridiscuterlo in toto . Quindi, ci troveremmo di fronte ad una legge approvata oggi che ha ripreso l'articolato di un provvedimento che potrebbe non essere approvato domani. Altri motivi di perplessità derivano dall'articolo 1-ter, secondo comma, là dove si parla di distacco dei dipendenti d i enti pubblici e locali o dell'utilizzazione, con contratto a termine, di personale di elevata professionalità. Le nostre perplessità derivano da alcune considerazioni ab bastanza rilevanti . In primo luogo, se que sto provvedimento è stato predispost o per favorire l'occupazione, cioè nel tentativo di ampliare il mercato del lavoro, noi potevamo escludere questa dizione, cioè i l distacco di personale da altri enti, poiché in questo modo si restringe di fatto la pos sibilità di introdurre forze fresche . Potevamo, invece, lasciare la possibilità di inserire nel mercato del lavoro giovani lavoratori e laureati che avevano la stessa professionalità di altri lavoratori distaccati dagli enti pubblici o locali . Ciò che ci lascia ancor più perplessi è la norma sui contratti a termine . Questo potrebbe essere un po' in contraddizion e con quanto detto prima, ma desiderando essere assai chiaro, senza lasciare nulla al caso, voglio dire che in questo modo s i conferisce a queste commissioni la possi bilità di introdurre (e potrebbero farlo), a livello clientelare, amici o amici degli amici in alcuni posti di lavoro attraverso con tratti a termine per tre anni, poi rinnova bili. Perché non si attinge dalle liste di di sponibilità o di collocamento, dove si trovano moltissimi laureati e impiegati di concetto? Si parla poi . di «comprovat a professionalità» e di «esperienza nella politica del lavoro»: ma chi proverà tutt e queste qualità? Le proveranno alcun e commissioni politiche, messe lì a gestire i l mercato del lavoro, che non possono offrire alcuna garanzia di equità nella scelta d i questo o quel soggetto. Pertanto, si corre il rischio di vedere riproposti, ancora un a volta, quei vecchi temi che tanto amaro hanno lasciato nella bocca di ognuno d i noi e che, soprattutto, non solo non hann o risolto, ma hanno aggravato la situazion e occupazionale nell 'area napoletana . Sempre a proposito dell'articolo 1-ter, credo che esso possa essere soltanto modificato. Dove si parla delle segreterie, e s i dice che può essere chiamato a farne par te personale degli enti soppressi, la dizioAtti Parlamentari – 28472 – Camera dei Deputati VIII LEGISLATURA - DISCUSSIONI - SEDUTA DELL' 8 APRILE 198 1 ne (abbiamo presentato un emendament o in tal senso), in luogo di «può essere», po trebbe essere «sarà». In questo modo, verrebbe data la possibilità a lavoratori, che si trovano in condizioni di difficoltà per l'avvenuta soppressione dell'ente di appartenenza, di un nuovo inserimento, senza creare nessuna discriminazione, e soprattutto senza creare nessuna possibilità clientelare . Per quanto riguarda l'ultimo comm a dell'articolo 3, con argomentazioni più o meno valide il signor ministro venne a darmi alcuni chiarimenti in Commissione. Ma credo di aver vissuto intensamente una situazione pesantissima sotto il profilo occupazionale nella mia città, nella mia provincia, e credo di dover dire per forz a certe cose, anche se sembra strano che queste cose siano dette da un deputat o che in quest'aula dovrebbe sostenere l'applicazione della legge, evitando di andare, anche se con una certa elasticità, contro d i essa. Ma confido nella comprensione dei colleghi, soprattutto dei colleghi meridionali, oggi in gran parte assenti da questo dibattito. E mi rivolgo ai colleghi meridionali non tanto per alzare uno steccato ch e ci divida dai colleghi di altre regioni d'Italia, quanto perché so che i colleghi meridionali, come il sottoscritto, vivono più in tensamente una realtà precaria sotto i l profilo occupazionale nelle nostre povere e disamministrate regioni . Dunque, l'ultimo comma dell'articolo 3 andrebbe, a mio avviso, modificato, in quanto si poteva in questo comma parlare dei lavoratori in cassa integrazione. In questo caso, credo che nessuna contestazione si sarebbe alza ta da nessun banco, da parte di nessun partito politico . Ma, quando queste norm e restrittive sono rivolte nei confronti d i persone senza lavoro, allora è necassario che i signori del Governo e gli onorevol i colleghi riflettano su questo . Io tentai, in Commissione, di far fronte sopprimere le parole «anche irregolare» . E spiego il perché: quest'ultimo comma dell'articolo 3 stabilisce che «i lavoratori che risultin o essere titolari di rapporto di lavoro, anche irregolare, o esercitare diversa attività lavorativa o imprenditoriale, vengono cancellati dalle liste»; in questo contesto, le parole «anche irregolare» devono essere discusse un momento da noi . Queste parole evidenziano uno stato di cose pesantis simo. Se vivessimo in una società più giu sta, che garantisse al disoccupato l'iscrizione nelle liste di collocamento per un periodo più o meno breve, questa nomra sarebbe giusta, giustissima. A questo punto, comminerei anche sanzioni monetarie. Se il disoccupato fosse iscritto nelle list e di collocamento per un mese, per du e mesi, per cinque mesi, per sei mesi, per u n anno, sarebbe giusto che egli non dovess e lavorare anche in maniera irregolare . Ma, quando i disoccupati sono costretti ad es sere iscritti per anni, soprattutto nelle zone meridionali, la situazione cambia. Credo che il Governo non abbia mai pensato a questo. Infatti, non ha mai definito nessuna politica di incentivazione . Come si può proibire a costoro di provvedere a se stessi, anche in maniera irregolare? È pur vero, signori del Governo, onorevoli colleghi, che in questa irregolarità noi potremmo sancire il lancio del mercato del «lavoro nero». Sono conscio della grand e responsabilità che mi assumo parlando in questi termini ma sono anche conscio del la grande responsabilità che avrei se non parlassi in questo modo in difesa di chi, d a troppi anni, è iscritto nelle liste di collocamento e che, presso gli uffici del lavoro e della massima occupazione delle zone meridionali, e di Napoli in particolare, no n ha trovato alcun sostegno, anzi, second o certe norme, si è visto impossibilitato a d essere inserito in un tessuto produttiv o perché, se non si è personale altamente qualificato di concetto, non si può avanza re la richiesta nominativa . Pertanto, il lavoratore, se da solo trova lavoro, non pu ò essere assunto da un datore di lavoro che, oltre tutto, volesse metterlo a posto sott o il profilo dei documenti e della previdenza, ed è quindi costretto ad inseguire un « lavoro nero» o un lavoro irregolare. E noi in queste zone tentiamo distruggere un a fonte preminente di guadagno con una norma che apparentemente è giusta, ma che restringerà ancora di più le possibilit à di sopravvivenza di questa gente, che atAtti Parlamentari - 28473 Camera dei Deputati VIII LEGISLATURA - DISCUSSIONI - SEDUTA DELL ' 8 APRILE 198 1 tende di poter essere inserita in un tessuto produttivo. Mi rendo conto che quel che ho detto può sembrare strano, ma conosco abbastanza bene, come altri miei colleghi napoletani la situazione di tutta quest'area. Pertanto, ognuno di noi deve sapersi assumere, anche se in termini discutibili, l e proprie responsabilità. Oltre tutto, attraverso l'emanazione d i queste leggi che non creano strutture valide al loro sostegno, possiamo rimarcare non soltanto il fallimento della legge n . 285, anche quello di altre leggi nate per scopi sociali ed umanitari e naufragate , nell 'evidenza dei fatti, per mancanza d i strutture idonee. Quando, infatti, vien e emanata una legge che non trova avallo i n strutture atte a fortificarne il senso, coloro che dovrebbero essere i beneficiari del la legge potrebbero essere preda dei var i taglieggiatori. che, attraverso il mercato del bisogno (in questo caso il mercato de l lavoro), traggono lauti guadagni sulla pelle dei lavoratori . Speravamo che il relatore ci dicesse ch e fine ha fatto l'ultimo comma dell'articolo 5, perché ieri sera in Commissione eravamo rimasti d 'accordo che l 'Assemblea lo avrebbe comunque votato . Credo che tale comma sia il clou di questo decreto-legge ; se non dovesse essere votato, la legge diventerebbe un pezzo di carta qualsiasi . Perciò, noi deputati faremmo miglior figura se cancellassimo immediatamente la registrazioni dei nostri interventi perché , torno a ripeterlo, senza questo comma il decreto-legge non ha più ragion d'essere . Tale comma è stato inviato alla Commissione bilancio per il parere di competenza. Avremmo dovuto ottenere prima dell'inizio del dibattito una risposta della Commissione, in ordine alla copertura d i spesa. Poiché, peraltro, la Commissione bilancio non ha espresso il suo parere, po iché la Commissione lavoro si è impegnata ieri a far sì che comunque tale 'emendamento aggiuntivo all'articolo 5 fosse votato, poiché, infine, il Governo non smentisce, nonostante voci di corridoio tendent i ad accreditare una volontà di ritiro di que sto emendamento, discutendolo come se fosse interamente valido . Anche al riguardo, signori del Governo , onorevoli colleghi, ci siamo permessi d i presentare una serie di emendamenti (po chi per la verità) tendenti a migliorare l a previsione di spesa di cui al detto emendamento aggiuntivo, il quale recita : «Ai lavoratori disoccupati della Campania e dell a Basilicata . . . iscritti nella prima classe del le liste di collocamento e che dichiarano la disponibilità ad essere impegnati nell e opere di ricostruzione, facenti parte di nu clei familiari, così come risultanti all a data di entrata in vigore del presente decreto, il cui reddito medio pro capite annuo non superi la somma di lire due milio ni, è corrisposta una integrazione del red dito, di lire 6 mila giornaliere, per il perio do di durata della sperimentazione e comunque fino al 31 dicembre 1981 . Gli oneri di cui al precedente comma sono a carico di un fondo speciale presso il Ministe ro del tesoro, per il quale viene istituit a apposita dotazione di bilancio di lire 200 miliardi, di cui lire 100 miliardi a valer e sui fondi destinati al commissario straordinario e di lire 100 miliardi a valere su l fondo globale . . .» . Così come credo abbiano fatto collegh i di altri gruppi, ci siamo permessi di presentare emendamenti al riguardo . Ad esempio, quello di due milioni ci sembra un reddito pro capite raggiungibile ormai da tutte le famiglie italiane, per cui proponiamo di elevare tale cifra a due milioni e cinquecentomila. Ancora, poiché l'efficacia del disegno di legge è garantita fino a l 31 dicembre 1983, proponiamo di spostar la data del 31 dicembre 1981, entro la quale è predisposta l'integrazione del reddito che ho detto, al 31 dicembre 1983. Infine, poiché è stata prevista una dotazion e di bilancio di 200 miliardi per un anno, e dal momento che secondo quanto da noi richiesto gli anni validi dovrebbero diventare tre, presentiamo un emendamento con il quale aumentiamo la cifra 'in questione da 200 a 600 miliardi, fermi restan do: 100 miliardi a valere sui fondi destinati al commissario straordinario e i 100 mi liardi concernenti il fondo del Ministero del lavoro. Con l'emendamento in questioAtti Parlamentari - 28474 Camera dei Deputat i VIII LEGISLATURA - DISCUSSIONI - SEDUTA DELL'8 APRILE 198 1 ne stabiliamo che la cifra rimanente è da prelevarsi dal bilancio pluriennale dell o Stato . Ove questo emendamento aggiuntiv o all'articolo 5 venisse approvato secondo l e modificazioni che proponiamo, si sarebb e di fronte alla prima vera, autentica novità di questo decreto-legge. Tale norma deve - si badi bene - non soltanto tendere all a creazione di una forza lavoro in attesa di un impiego produttivo, che andrà a perce pire 90-100-150-190 mila lire al mese vit a natural durante, senza più avere la possi bilità di essere: inserita nel mondo del lavoro! Dunque, ci permettiamo di segnala re queste cose e vorremmo avere sull e stesse una precisa risposta del Governo, prima del termine del dibattito . Vorremmo sapere la fine che ha fatto o che far à questo emendamento aggiuntivo all'articolo 5, poiché è con riferimento allo stesso che si potrà decidere sulla validità dell'intero provvedimento . Credo pertanto di poter concludere , avendo evidenziato la volontà dei disoccupati napoletani di non essere assistiti, d i partecipare a corsi di riqualificazione pro fessionale tendenti però ad un reinserimento produttivo, di essere posti di front e ad una realtà occupazionale oggi del tutt o latente nelle regioni meridionali, in generale, e nella Campania e Basilicata, in par ticoalre. Credo, altresì, di aver dimostrato come questo provvedimento non sia ido neo a fornire alcuna possibilità di lavoro alla gente meridionale, ma valga unicamente ad appesantire ulteriormente la si tuazione. La nostra parte politica vi aspetterà quindi al varco, per denunziare carenze, inefficienze e deficienze da parte d i chi dovrebbe legiferare per il benesser e della collettività, ma che spesso opera con tanta approssimazione e talvolta anche in malafede . (Applausi da destra) \""
      ]
     },
     "execution_count": 37,
     "metadata": {},
     "output_type": "execute_result"
    }
   ],
   "source": [
    "text2.iloc[11]['text']"
   ]
  },
  {
   "cell_type": "code",
   "execution_count": 36,
   "metadata": {
    "pycharm": {
     "name": "#%%\n"
    },
    "tags": []
   },
   "outputs": [
    {
     "data": {
      "text/plain": [
       "'1991-01-15 00:00:00'"
      ]
     },
     "execution_count": 36,
     "metadata": {},
     "output_type": "execute_result"
    }
   ],
   "source": [
    "text2.iloc[0]['date']"
   ]
  },
  {
   "cell_type": "code",
   "execution_count": 64,
   "metadata": {},
   "outputs": [
    {
     "data": {
      "text/html": [
       "<div>\n",
       "<style scoped>\n",
       "    .dataframe tbody tr th:only-of-type {\n",
       "        vertical-align: middle;\n",
       "    }\n",
       "\n",
       "    .dataframe tbody tr th {\n",
       "        vertical-align: top;\n",
       "    }\n",
       "\n",
       "    .dataframe thead th {\n",
       "        text-align: right;\n",
       "    }\n",
       "</style>\n",
       "<table border=\"1\" class=\"dataframe\">\n",
       "  <thead>\n",
       "    <tr style=\"text-align: right;\">\n",
       "      <th></th>\n",
       "      <th>persona</th>\n",
       "      <th>surname</th>\n",
       "      <th>name</th>\n",
       "      <th>dataInizio</th>\n",
       "      <th>dataFine</th>\n",
       "      <th>carica</th>\n",
       "      <th>nomeOrganoGoverno</th>\n",
       "    </tr>\n",
       "  </thead>\n",
       "  <tbody>\n",
       "  </tbody>\n",
       "</table>\n",
       "</div>"
      ],
      "text/plain": [
       "Empty DataFrame\n",
       "Columns: [persona, surname, name, dataInizio, dataFine, carica, nomeOrganoGoverno]\n",
       "Index: []"
      ]
     },
     "execution_count": 64,
     "metadata": {},
     "output_type": "execute_result"
    }
   ],
   "source": [
    "date = filtered_personnel[(filtered_personnel[\"dataInizio\"] <= '2005-06-29') & (filtered_personnel[\"dataFine\"] >= '2005-06-29')]\n",
    "find_by_surname([\"GIUSEPPE\", \"VEGAS\", \"Viceministro\"],date,False)"
   ]
  },
  {
   "cell_type": "code",
   "execution_count": 75,
   "metadata": {},
   "outputs": [
    {
     "name": "stdout",
     "output_type": "stream",
     "text": [
      "6\n",
      "DI SAN MARTINO LORENZATO DI IVREA\n"
     ]
    }
   ],
   "source": [
    "sum = 0\n",
    "n = ''\n",
    "for i, r in filtered_personnel.iterrows():\n",
    "    s = len(r['surname'].split(maxsplit = 10))# + len(r['name'].split(maxsplit = 10))\n",
    "    if s > sum:\n",
    "        sum = s\n",
    "        n = r['surname']# + ' ' + r['name']\n",
    "print(sum)\n",
    "print(n)"
   ]
  },
  {
   "cell_type": "markdown",
   "metadata": {},
   "source": [
    "### Other find_surmane\n",
    "(check if candidate is substring of a text)"
   ]
  },
  {
   "cell_type": "code",
   "execution_count": 13,
   "metadata": {
    "pycharm": {
     "name": "#%%\n"
    }
   },
   "outputs": [
    {
     "name": "stdout",
     "output_type": "stream",
     "text": [
      "SURNAME done\n",
      "NAME done\n",
      "TEXT done\n"
     ]
    }
   ],
   "source": [
    "from collections import Counter\n",
    "def words(text): \n",
    "    text = text.upper().replace(\"À\",\"A'\").replace(\"È\",\"E'\").replace(\"É\",\"E'\").replace(\"Ì\",\"I'\").replace(\"Í\",\"I'\").replace(\"Ò\",\"O'\").replace(\"Ó\",\"O'\").replace(\"Ù\",\"U'\").replace(\"Ú\",\"U'\").replace(\"Ü\",\"U'\")\n",
    "    return re.findall(r\"[A-Z'-]+\", text.upper())\n",
    "SURNAME = Counter(words(' '.join(filtered_personnel['surname'])))\n",
    "print(\"SURNAME done\")\n",
    "NAME = Counter(words(' '.join(filtered_personnel['name'])))\n",
    "print(\"NAME done\")\n",
    "t = ' '.join(text['text'])\n",
    "\n",
    "#t = t.replace(\"À\",\"A'\")\n",
    "#t = t.replace(\"È\",\"E'\")\n",
    "#t = t.replace(\"È\",\"E'\")\n",
    "#t = t.replace(\"É\",\"E'\")\n",
    "#t = t.replace(\"Ì\",\"I'\")\n",
    "#t = t.replace(\"Ò\",\"O'\")\n",
    "#t = t.replace(\"Ó\",\"O'\")\n",
    "#t = t.replace(\"Ù\",\"U'\")\n",
    "TEXT = Counter(words(t))\n",
    "print(\"TEXT done\")\n",
    "WORDS = SURNAME"
   ]
  },
  {
   "cell_type": "code",
   "execution_count": 14,
   "metadata": {},
   "outputs": [],
   "source": [
    "with open(\"one-grams.txt\", 'w') as f:\n",
    "    c = TEXT+SURNAME+NAME\n",
    "    for k,v in  c.most_common():\n",
    "        f.write( \"{}\\t{}\\n\".format(k.lower(),v) )\n",
    "with open(\"surname-one-grams.txt\", 'w') as f:\n",
    "    for k,v in  SURNAME.most_common():\n",
    "        f.write( \"{}\\t{}\\n\".format(k.lower(),v) )"
   ]
  },
  {
   "cell_type": "code",
   "execution_count": 15,
   "metadata": {},
   "outputs": [],
   "source": [
    "import segment\n",
    "import segment_sur"
   ]
  },
  {
   "cell_type": "code",
   "execution_count": 16,
   "metadata": {
    "pycharm": {
     "name": "#%%\n"
    },
    "tags": []
   },
   "outputs": [],
   "source": [
    "def find_by_surname(text,personnel, corr):\n",
    "    import pandas as pd\n",
    "    data = []\n",
    "    for i, s in personnel.iterrows():\n",
    "        if s['surname'] in text:\n",
    "            data.append(s)\n",
    "    sur = pd.DataFrame(data)\n",
    "    #if len(pd.unique(sur[\"surname\"])) > 1 and len(words) > 1: # if more then one surename in result, reduce up to first in text\n",
    "        #len(words) just as hedge against error\n",
    "    #    sur = find_by_surname(words[0:-1],sur, False)\n",
    "    if len(sur.index) == 0 and not corr:\n",
    "        WORDS = SURNAME+TEXT\n",
    "        word = regex.sub('', text).split()\n",
    "        for i, w in enumerate(word):\n",
    "            word[i] = correction(w)\n",
    "        sur = find_by_surname(' '.join(word),personnel,True)\n",
    "    return sur\n",
    "\n",
    "def find_by_surname_2(text,personnel, corr):\n",
    "    import pandas as pd\n",
    "    data = []\n",
    "    seg = segment2_sur.segment(text)\n",
    "    sur = pd.DataFrame({'A' : []})\n",
    "    #print(seg)\n",
    "    for i, s in enumerate(seg):\n",
    "        p = personnel[(personnel[\"surname\"] == s.upper())]\n",
    "        sur = pd.concat([sur,p])\n",
    "    #if len(pd.unique(sur[\"surname\"])) > 1 and len(words) > 1: # if more then one surename in result, reduce up to first in text\n",
    "        #len(words) just as hedge against error\n",
    "    #    sur = find_by_surname(words[0:-1],sur, False)\n",
    "    if len(sur.index) == 0 and not corr:\n",
    "        WORDS = SURNAME+TEXT\n",
    "        word = regex.sub('', text).split()\n",
    "        for i, w in enumerate(word):\n",
    "            word[i] = correction(w)\n",
    "        sur = find_by_surname(' '.join(word),personnel,True)\n",
    "    return sur\n",
    "\n",
    "def find_by_name(text,personnel,corr):\n",
    "    import pandas as pd\n",
    "    data = []\n",
    "    for i, s in personnel.iterrows():\n",
    "        if s['name'] in text:\n",
    "            data.append(s)\n",
    "    sur = pd.DataFrame(data)\n",
    "    #if len(pd.unique(sur[\"surname\"])) > 1 and len(words) > 1: # if more then one surename in result, reduce up to first in text\n",
    "        #len(words) just as hedge against error\n",
    "    #    sur = find_by_surname(words[0:-1],sur, False)\n",
    "    #if len(sur.index) == 0 and not corr:\n",
    "    #    WORDS = NAME+TEXT\n",
    "    #    word = regex.sub('', text).split()\n",
    "    #    for i, w in enumerate(word):\n",
    "    #        word[i] = correction(w)\n",
    "    #    sur = find_by_surname(' '.join(word),personnel,True)\n",
    "    return sur"
   ]
  },
  {
   "cell_type": "code",
   "execution_count": 17,
   "metadata": {
    "pycharm": {
     "name": "#%%\n"
    }
   },
   "outputs": [],
   "source": [
    "def find_person(text, date, personnel):\n",
    "    import pandas as pd\n",
    "    import segment\n",
    "    global phase\n",
    "    global l\n",
    "    phase = \"char_replace\"\n",
    "    text = text.replace(\"À\",\"A'\")\n",
    "    text = text.replace(\"È\",\"E'\")\n",
    "    text = text.replace(\"É\",\"E'\")\n",
    "    text = text.replace(\"Ì\",\"I'\")\n",
    "    text = text.replace(\"Ò\",\"O'\")\n",
    "    text = text.replace(\"Ó\",\"O'\")\n",
    "    text = text.replace(\"Ù\",\"U'\")\n",
    "    \n",
    "    # take only up to 20 first words\n",
    "    word = regex.sub('', text).split()\n",
    "    average = sum(len(w) for w in word) / len(word)\n",
    "    if average < 4:\n",
    "        if len(word) >= 120: #avarage 6-8 letters in italian word (6*20 = 120), but segment have limit of 100\n",
    "            seg = segment.segment(''.join(word[0:60]))\n",
    "        else:\n",
    "            seg = segment.segment(''.join(word))\n",
    "        text = ' '.join(seg)\n",
    "    elif len(word) >= 20:\n",
    "        text = ' '.join(word[0:20])\n",
    "    else:\n",
    "        text = ' '.join(word)\n",
    "    #print(text)\n",
    "    phase = \"date_search\"\n",
    "    date = personnel[(personnel[\"dataInizio\"] <= date) & (personnel[\"dataFine\"] >= date)]\n",
    "    if len(date.index) >= 1:\n",
    "        phase = \"sur_search\"\n",
    "        sur = find_by_surname(text.upper(), date, False)\n",
    "        phase = \"after_sur_search\"\n",
    "        #print(sur)\n",
    "        if len(sur.index) == 0:\n",
    "            return None\n",
    "        elif (len(sur.index) == 1) or (len(pd.unique(sur['persona'])) == 1):\n",
    "            return sur.iloc[0]['persona']\n",
    "        else:\n",
    "            if len(sur['surname'].value_counts()) > 1:\n",
    "                word = regex.sub('', text.upper()).split()\n",
    "                sur2 = pd.DataFrame({'A' : []})\n",
    "                i = 0\n",
    "                t = ''\n",
    "                while(sur2.empty and (i < 20 and i < len(word))): #limit of frase up to 20 words\n",
    "                    t = t + ' ' + word[i]\n",
    "                    sur2 = find_by_surname(t,sur,False) # check what surname is appering first in text \n",
    "                    i+=1\n",
    "                sur = sur2\n",
    "                if sur.empty:\n",
    "                    return None\n",
    "            #print(sur)\n",
    "            if len(pd.unique(sur['persona'])) == 1:\n",
    "                return sur.iloc[0]['persona']\n",
    "            else:\n",
    "                phase = \"name_search\"\n",
    "                name = find_by_name(text.upper(), sur, False)\n",
    "                #print('-------------------')\n",
    "                #print(name)\n",
    "                if len(name.index) == 1 or (len(name.index) > 1 and len(pd.unique(name['persona']))==1):\n",
    "                    return name.iloc[0]['persona']\n",
    "    else:#No person found with that surename with correction\n",
    "        return None"
   ]
  },
  {
   "cell_type": "code",
   "execution_count": null,
   "metadata": {
    "pycharm": {
     "name": "#%%\n"
    },
    "scrolled": true,
    "tags": []
   },
   "outputs": [
    {
     "name": "stdout",
     "output_type": "stream",
     "text": [
      "done 118/1000    11.799999999999999%\n",
      "FRANCESCO GIULIO BAGHINO Signor Presidente noi voteremo a favor e dell'emendamento Luigi d'Amato Tab A Con esso infatti si viene\n",
      "                                            persona  surname  \\\n",
      "6031   http://dati.camera.it/ocd/persona.rdf/p18490  D'AMATO   \n",
      "6298   http://dati.camera.it/ocd/persona.rdf/p22610    AMATO   \n",
      "6727   http://dati.camera.it/ocd/persona.rdf/p29420  D'AMATO   \n",
      "10256    http://dati.camera.it/ocd/persona.rdf/p410  BAGHINO   \n",
      "\n",
      "                   name dataInizio   dataFine  carica  nomeOrganoGoverno  \n",
      "6031              LUIGI 1987-07-02 1992-04-22     NaN                NaN  \n",
      "6298           GIULIANO 1987-06-25 1992-04-22     NaN                NaN  \n",
      "6727              CARLO 1987-06-27 1992-04-22     NaN                NaN  \n",
      "10256  FRANCESCO GIULIO 1987-06-26 1992-04-22     NaN                NaN  \n"
     ]
    }
   ],
   "source": [
    "l = len(text2.index)\n",
    "res = []\n",
    "\n",
    "regex = re.compile(\"[^a-zA-Z -']\")\n",
    "\n",
    "for index, row in text2.iterrows():\n",
    "    #DEBUG\n",
    "    #if index%100==0:\n",
    "    clear_output(wait=True)\n",
    "    print('done '+str(index)+'/'+str(l)+'    '+str((index/l)*100)+'%')\n",
    "    #DEBUG\n",
    "    global phase\n",
    "    phase = \"search\"\n",
    "    person = find_person(row['text'], row['date'], filtered_personnel)\n",
    "    phase = \"take person data\"\n",
    "    predicted = filtered_personnel.loc[filtered_personnel['persona'] == person]\n",
    "    if person is not None:\n",
    "        pred_surname = predicted.iloc[0]['surname']\n",
    "        pred_name = predicted.iloc[0]['name']\n",
    "    else:\n",
    "        pred_surname = None\n",
    "        pred_name = None\n",
    "    phase = \"check if correct\"\n",
    "    if row[\"persona\"] == person:\n",
    "        correct = True\n",
    "    else:\n",
    "        correct = False\n",
    "    phase = \"append\"\n",
    "    \n",
    "    res.append({\"True persona\": row[\"persona\"], \"True name\": row[\"name\"], \"True surname\": row[\"surname\"],\n",
    "                \"Text\":row[\"text\"],  \"Correct\":correct, \"Predicted persona\": person,\n",
    "                \"Predicted surname\": pred_surname, \n",
    "                \"Predicted name\": pred_name})\n",
    "            \n",
    "clear_output(wait=True)\n",
    "print('done '+str(index)+'/'+str(l)+'    '+str(((index)/l)*100)+'%')\n",
    "result = pd.DataFrame.from_dict(res)\n",
    "result['Correct'].describe()"
   ]
  },
  {
   "cell_type": "code",
   "execution_count": null,
   "metadata": {
    "pycharm": {
     "name": "#%%\n"
    },
    "scrolled": true,
    "tags": []
   },
   "outputs": [],
   "source": [
    "pd.set_option(\"display.max_rows\", None)\n",
    "result[result['Correct'] == False]"
   ]
  },
  {
   "cell_type": "code",
   "execution_count": 51,
   "metadata": {
    "pycharm": {
     "name": "#%%\n"
    }
   },
   "outputs": [
    {
     "name": "stdout",
     "output_type": "stream",
     "text": [
      "STEFANO APUZZO. S t iamo pres idiando l ' inquinatore! \n",
      "                                             persona  surname     name  \\\n",
      "8838    http://dati.camera.it/ocd/persona.rdf/p32180   APUZZO  STEFANO   \n",
      "19023  http://dati.camera.it/ocd/persona.rdf/p200914  STEFANO  IPPAZIO   \n",
      "\n",
      "      dataInizio   dataFine  carica  nomeOrganoGoverno  \n",
      "8838  1992-04-21 1994-04-14     NaN                NaN  \n",
      "19023 1992-04-05 1994-04-14     NaN                NaN  \n",
      "                                             persona  surname     name  \\\n",
      "19023  http://dati.camera.it/ocd/persona.rdf/p200914  STEFANO  IPPAZIO   \n",
      "\n",
      "      dataInizio   dataFine  carica  nomeOrganoGoverno  \n",
      "19023 1992-04-05 1994-04-14     NaN                NaN  \n"
     ]
    },
    {
     "data": {
      "text/plain": [
       "'http://dati.camera.it/ocd/persona.rdf/p200914'"
      ]
     },
     "execution_count": 51,
     "metadata": {},
     "output_type": "execute_result"
    }
   ],
   "source": [
    "find_person(text2.iloc[107]['text'], text2.iloc[107]['date'], filtered_personnel)"
   ]
  },
  {
   "cell_type": "code",
   "execution_count": 86,
   "metadata": {},
   "outputs": [
    {
     "name": "stdout",
     "output_type": "stream",
     "text": [
      "fasiolo\t1\n",
      "\n"
     ]
    }
   ],
   "source": [
    "s = filtered_personnel[\"surname\"].value_counts()\n",
    "with open(\"surname2-one-grams.txt\", 'w') as f:\n",
    "    for k,v in s.iteritems():\n",
    "        k = k.replace(\"À\",\"A'\").replace(\"È\",\"E'\").replace(\"É\",\"E'\").replace(\"Ì\",\"I'\").replace(\"Í\",\"I'\").replace(\"Ò\",\"O'\").replace(\"Ó\",\"O'\").replace(\"Ù\",\"U'\").replace(\"Ú\",\"U'\").replace(\"Ü\",\"U'\")\n",
    "        string = k.lower() + \"\\t\" + str(v) + \"\\n\"\n",
    "        clear_output(wait=True)\n",
    "        print(string)\n",
    "        f.write(string)"
   ]
  },
  {
   "cell_type": "code",
   "execution_count": 35,
   "metadata": {},
   "outputs": [
    {
     "name": "stdout",
     "output_type": "stream",
     "text": [
      "----\n",
      "                                           persona  surname       name  \\\n",
      "97    http://dati.camera.it/ocd/persona.rdf/p10790  VILLANI  VITTORINO   \n",
      "4751   http://dati.camera.it/ocd/persona.rdf/p6130    VILLA    RUGGERO   \n",
      "\n",
      "     dataInizio   dataFine  carica  nomeOrganoGoverno  \n",
      "97   1953-06-15 1958-06-11     NaN                NaN  \n",
      "4751 1953-06-15 1958-06-11     NaN                NaN  \n",
      "['villani', ' non vern questa p una sua ammissione implicita']\n",
      "['villani', ' non vern questa p una sua ammissione implicita']\n"
     ]
    },
    {
     "data": {
      "text/html": [
       "<div>\n",
       "<style scoped>\n",
       "    .dataframe tbody tr th:only-of-type {\n",
       "        vertical-align: middle;\n",
       "    }\n",
       "\n",
       "    .dataframe tbody tr th {\n",
       "        vertical-align: top;\n",
       "    }\n",
       "\n",
       "    .dataframe thead th {\n",
       "        text-align: right;\n",
       "    }\n",
       "</style>\n",
       "<table border=\"1\" class=\"dataframe\">\n",
       "  <thead>\n",
       "    <tr style=\"text-align: right;\">\n",
       "      <th></th>\n",
       "      <th>A</th>\n",
       "      <th>persona</th>\n",
       "      <th>surname</th>\n",
       "      <th>name</th>\n",
       "      <th>dataInizio</th>\n",
       "      <th>dataFine</th>\n",
       "      <th>carica</th>\n",
       "      <th>nomeOrganoGoverno</th>\n",
       "    </tr>\n",
       "  </thead>\n",
       "  <tbody>\n",
       "    <tr>\n",
       "      <th>97</th>\n",
       "      <td>NaN</td>\n",
       "      <td>http://dati.camera.it/ocd/persona.rdf/p10790</td>\n",
       "      <td>VILLANI</td>\n",
       "      <td>VITTORINO</td>\n",
       "      <td>1953-06-15</td>\n",
       "      <td>1958-06-11</td>\n",
       "      <td>NaN</td>\n",
       "      <td>NaN</td>\n",
       "    </tr>\n",
       "  </tbody>\n",
       "</table>\n",
       "</div>"
      ],
      "text/plain": [
       "     A                                       persona  surname       name  \\\n",
       "97 NaN  http://dati.camera.it/ocd/persona.rdf/p10790  VILLANI  VITTORINO   \n",
       "\n",
       "   dataInizio   dataFine  carica  nomeOrganoGoverno  \n",
       "97 1953-06-15 1958-06-11     NaN                NaN  "
      ]
     },
     "execution_count": 35,
     "metadata": {},
     "output_type": "execute_result"
    }
   ],
   "source": [
    "date = filtered_personnel[(filtered_personnel[\"dataInizio\"] <= text2.iloc[30]['date']) & (filtered_personnel[\"dataFine\"] >= text2.iloc[30]['date'])]\n",
    "t = text2.iloc[30]['text']\n",
    "sur = find_by_surname(t.upper(),date,False)\n",
    "print('----')\n",
    "print(sur)\n",
    "word = regex.sub('', text2.iloc[30]['text']).split()\n",
    "if len(word) >=20:\n",
    "    print(segment_sur.segment(' '.join(word[0:20])))\n",
    "    f = find_by_surname_2(' '.join(word[0:20]),sur, False)\n",
    "else:\n",
    "    print(segment_sur.segment(' '.join(word)))\n",
    "    f = find_by_surname_2(' '.join(word),sur, False)\n",
    "f"
   ]
  },
  {
   "cell_type": "code",
   "execution_count": 98,
   "metadata": {},
   "outputs": [
    {
     "name": "stdout",
     "output_type": "stream",
     "text": [
      "RAFFAELE DELLA V\\LLE. Sì, ma avrei potuto quanto meno accennare a cosa avrei voluto dire... (Commenti). Lei mi fa un processo a futura memoria! \n",
      "----------------\n",
      "['raffa', 'ele della vlle s ma avrei potuto quanto meno accennare a cosa avrei voluto dire commenti lei mi fa un']\n",
      "['raffa', 'ele della vlle s ma avrei potuto quanto meno accennare a cosa avrei voluto dire commenti lei mi fa un']\n"
     ]
    },
    {
     "data": {
      "text/html": [
       "<div>\n",
       "<style scoped>\n",
       "    .dataframe tbody tr th:only-of-type {\n",
       "        vertical-align: middle;\n",
       "    }\n",
       "\n",
       "    .dataframe tbody tr th {\n",
       "        vertical-align: top;\n",
       "    }\n",
       "\n",
       "    .dataframe thead th {\n",
       "        text-align: right;\n",
       "    }\n",
       "</style>\n",
       "<table border=\"1\" class=\"dataframe\">\n",
       "  <thead>\n",
       "    <tr style=\"text-align: right;\">\n",
       "      <th></th>\n",
       "      <th>persona</th>\n",
       "      <th>surname</th>\n",
       "      <th>name</th>\n",
       "      <th>dataInizio</th>\n",
       "      <th>dataFine</th>\n",
       "      <th>carica</th>\n",
       "      <th>nomeOrganoGoverno</th>\n",
       "    </tr>\n",
       "  </thead>\n",
       "  <tbody>\n",
       "    <tr>\n",
       "      <th>9735</th>\n",
       "      <td>http://dati.camera.it/ocd/persona.rdf/p36280</td>\n",
       "      <td>DELLA VALLE</td>\n",
       "      <td>RAFFAELE</td>\n",
       "      <td>1994-04-02</td>\n",
       "      <td>1996-05-08</td>\n",
       "      <td>NaN</td>\n",
       "      <td>NaN</td>\n",
       "    </tr>\n",
       "    <tr>\n",
       "      <th>10120</th>\n",
       "      <td>http://dati.camera.it/ocd/persona.rdf/p38370</td>\n",
       "      <td>RAFFAELLI</td>\n",
       "      <td>PAOLO</td>\n",
       "      <td>1994-04-01</td>\n",
       "      <td>1996-05-08</td>\n",
       "      <td>NaN</td>\n",
       "      <td>NaN</td>\n",
       "    </tr>\n",
       "  </tbody>\n",
       "</table>\n",
       "</div>"
      ],
      "text/plain": [
       "                                            persona      surname      name  \\\n",
       "9735   http://dati.camera.it/ocd/persona.rdf/p36280  DELLA VALLE  RAFFAELE   \n",
       "10120  http://dati.camera.it/ocd/persona.rdf/p38370    RAFFAELLI     PAOLO   \n",
       "\n",
       "      dataInizio   dataFine  carica  nomeOrganoGoverno  \n",
       "9735  1994-04-02 1996-05-08     NaN                NaN  \n",
       "10120 1994-04-01 1996-05-08     NaN                NaN  "
      ]
     },
     "execution_count": 98,
     "metadata": {},
     "output_type": "execute_result"
    }
   ],
   "source": [
    "import segment2_sur\n",
    "i = 404\n",
    "print(text2.iloc[i]['text'])\n",
    "print('----------------')\n",
    "date = filtered_personnel[(filtered_personnel[\"dataInizio\"] <= text2.iloc[i]['date']) & (filtered_personnel[\"dataFine\"] >= text2.iloc[i]['date'])]\n",
    "word = regex.sub('', text2.iloc[i]['text']).split()\n",
    "if len(word) >=20:\n",
    "    print(segment2_sur.segment(' '.join(word[0:20])))\n",
    "    f = find_by_surname_2(' '.join(word[0:20]),date, False)\n",
    "else:\n",
    "    print(segment2_sur.segment(' '.join(word)))\n",
    "    f = find_by_surname_2(' '.join(word),date, False)\n",
    "f"
   ]
  },
  {
   "cell_type": "code",
   "execution_count": 38,
   "metadata": {
    "pycharm": {
     "name": "#%%\n"
    },
    "scrolled": true,
    "tags": []
   },
   "outputs": [
    {
     "data": {
      "text/plain": [
       "'« SCIORILLI BORRELLI » . « Il sottoscritto chiede d\\'interrogare il ministro della pubblica istruzione, per sapere se sia ammissibile che il provveditore agl i studi di Milano, rispondendo alle istanze di un gruppo di insegnanti che chiedevano legittimamente il pagamento delle indennit à dovute per la partecipazione agli esami d i abilitazione tecnica commerciale della sessione autunnale 1959 presso l\\'istituto Cattane o di Milano, abbia non soltanto rifiutato tale pagamento, ma abbia perfino invitato i professori richiedenti a \" non inviare continui solleciti relativi ai pagamenti delle indennità suddette \" (circolare del 15 maggio 1950 , n . 21751/147) . (13941) '"
      ]
     },
     "execution_count": 38,
     "metadata": {},
     "output_type": "execute_result"
    }
   ],
   "source": [
    "text2.iloc[1]['text']"
   ]
  },
  {
   "cell_type": "code",
   "execution_count": 39,
   "metadata": {
    "pycharm": {
     "name": "#%%\n"
    },
    "tags": []
   },
   "outputs": [
    {
     "data": {
      "text/plain": [
       "'1960-09-07 00:00:00'"
      ]
     },
     "execution_count": 39,
     "metadata": {},
     "output_type": "execute_result"
    }
   ],
   "source": [
    "text2.iloc[1]['date']"
   ]
  },
  {
   "cell_type": "code",
   "execution_count": 42,
   "metadata": {},
   "outputs": [
    {
     "data": {
      "text/html": [
       "<div>\n",
       "<style scoped>\n",
       "    .dataframe tbody tr th:only-of-type {\n",
       "        vertical-align: middle;\n",
       "    }\n",
       "\n",
       "    .dataframe tbody tr th {\n",
       "        vertical-align: top;\n",
       "    }\n",
       "\n",
       "    .dataframe thead th {\n",
       "        text-align: right;\n",
       "    }\n",
       "</style>\n",
       "<table border=\"1\" class=\"dataframe\">\n",
       "  <thead>\n",
       "    <tr style=\"text-align: right;\">\n",
       "      <th></th>\n",
       "      <th>persona</th>\n",
       "      <th>surname</th>\n",
       "      <th>name</th>\n",
       "      <th>dataInizio</th>\n",
       "      <th>dataFine</th>\n",
       "      <th>carica</th>\n",
       "      <th>nomeOrganoGoverno</th>\n",
       "    </tr>\n",
       "  </thead>\n",
       "  <tbody>\n",
       "    <tr>\n",
       "      <th>46</th>\n",
       "      <td>http://dati.camera.it/ocd/persona.rdf/p10330</td>\n",
       "      <td>SCIORILLI BORRELLI</td>\n",
       "      <td>RAFFAELE</td>\n",
       "      <td>1958-06-18</td>\n",
       "      <td>1963-05-15</td>\n",
       "      <td>NaN</td>\n",
       "      <td>NaN</td>\n",
       "    </tr>\n",
       "    <tr>\n",
       "      <th>348</th>\n",
       "      <td>http://dati.camera.it/ocd/persona.rdf/p11510</td>\n",
       "      <td>GITTI</td>\n",
       "      <td>SALVATORE ANGELO</td>\n",
       "      <td>1958-05-31</td>\n",
       "      <td>1963-05-15</td>\n",
       "      <td>NaN</td>\n",
       "      <td>NaN</td>\n",
       "    </tr>\n",
       "    <tr>\n",
       "      <th>5836</th>\n",
       "      <td>http://dati.camera.it/ocd/persona.rdf/p9980</td>\n",
       "      <td>RE</td>\n",
       "      <td>GIUSEPPINA</td>\n",
       "      <td>1958-06-06</td>\n",
       "      <td>1963-05-15</td>\n",
       "      <td>NaN</td>\n",
       "      <td>NaN</td>\n",
       "    </tr>\n",
       "    <tr>\n",
       "      <th>16072</th>\n",
       "      <td>http://dati.camera.it/ocd/persona.rdf/p300707</td>\n",
       "      <td>BO</td>\n",
       "      <td>GIORGIO</td>\n",
       "      <td>1958-06-12</td>\n",
       "      <td>1963-05-15</td>\n",
       "      <td>NaN</td>\n",
       "      <td>NaN</td>\n",
       "    </tr>\n",
       "    <tr>\n",
       "      <th>16531</th>\n",
       "      <td>http://dati.camera.it/ocd/persona.rdf/p300919</td>\n",
       "      <td>CONTI</td>\n",
       "      <td>ALFREDO</td>\n",
       "      <td>1958-06-02</td>\n",
       "      <td>1963-05-15</td>\n",
       "      <td>NaN</td>\n",
       "      <td>NaN</td>\n",
       "    </tr>\n",
       "  </tbody>\n",
       "</table>\n",
       "</div>"
      ],
      "text/plain": [
       "                                             persona             surname  \\\n",
       "46      http://dati.camera.it/ocd/persona.rdf/p10330  SCIORILLI BORRELLI   \n",
       "348     http://dati.camera.it/ocd/persona.rdf/p11510               GITTI   \n",
       "5836     http://dati.camera.it/ocd/persona.rdf/p9980                  RE   \n",
       "16072  http://dati.camera.it/ocd/persona.rdf/p300707                  BO   \n",
       "16531  http://dati.camera.it/ocd/persona.rdf/p300919               CONTI   \n",
       "\n",
       "                   name dataInizio   dataFine  carica  nomeOrganoGoverno  \n",
       "46             RAFFAELE 1958-06-18 1963-05-15     NaN                NaN  \n",
       "348    SALVATORE ANGELO 1958-05-31 1963-05-15     NaN                NaN  \n",
       "5836         GIUSEPPINA 1958-06-06 1963-05-15     NaN                NaN  \n",
       "16072           GIORGIO 1958-06-12 1963-05-15     NaN                NaN  \n",
       "16531           ALFREDO 1958-06-02 1963-05-15     NaN                NaN  "
      ]
     },
     "execution_count": 42,
     "metadata": {},
     "output_type": "execute_result"
    }
   ],
   "source": [
    "date = filtered_personnel[(filtered_personnel[\"dataInizio\"] <= text2.iloc[1]['date']) & (filtered_personnel[\"dataFine\"] >= text2.iloc[1]['date'])]\n",
    "t = text2.iloc[1]['text']\n",
    "sur = find_by_surname(t.upper(),date,False)\n",
    "sur"
   ]
  },
  {
   "cell_type": "code",
   "execution_count": 43,
   "metadata": {},
   "outputs": [
    {
     "name": "stdout",
     "output_type": "stream",
     "text": [
      "                                             persona             surname  \\\n",
      "46      http://dati.camera.it/ocd/persona.rdf/p10330  SCIORILLI BORRELLI   \n",
      "348     http://dati.camera.it/ocd/persona.rdf/p11510               GITTI   \n",
      "5836     http://dati.camera.it/ocd/persona.rdf/p9980                  RE   \n",
      "16072  http://dati.camera.it/ocd/persona.rdf/p300707                  BO   \n",
      "16531  http://dati.camera.it/ocd/persona.rdf/p300919               CONTI   \n",
      "\n",
      "                   name dataInizio   dataFine  carica  nomeOrganoGoverno  \n",
      "46             RAFFAELE 1958-06-18 1963-05-15     NaN                NaN  \n",
      "348    SALVATORE ANGELO 1958-05-31 1963-05-15     NaN                NaN  \n",
      "5836         GIUSEPPINA 1958-06-06 1963-05-15     NaN                NaN  \n",
      "16072           GIORGIO 1958-06-12 1963-05-15     NaN                NaN  \n",
      "16531           ALFREDO 1958-06-02 1963-05-15     NaN                NaN  \n"
     ]
    },
    {
     "data": {
      "text/html": [
       "<div>\n",
       "<style scoped>\n",
       "    .dataframe tbody tr th:only-of-type {\n",
       "        vertical-align: middle;\n",
       "    }\n",
       "\n",
       "    .dataframe tbody tr th {\n",
       "        vertical-align: top;\n",
       "    }\n",
       "\n",
       "    .dataframe thead th {\n",
       "        text-align: right;\n",
       "    }\n",
       "</style>\n",
       "<table border=\"1\" class=\"dataframe\">\n",
       "  <thead>\n",
       "    <tr style=\"text-align: right;\">\n",
       "      <th></th>\n",
       "      <th>persona</th>\n",
       "      <th>surname</th>\n",
       "      <th>name</th>\n",
       "      <th>dataInizio</th>\n",
       "      <th>dataFine</th>\n",
       "      <th>carica</th>\n",
       "      <th>nomeOrganoGoverno</th>\n",
       "    </tr>\n",
       "  </thead>\n",
       "  <tbody>\n",
       "    <tr>\n",
       "      <th>46</th>\n",
       "      <td>http://dati.camera.it/ocd/persona.rdf/p10330</td>\n",
       "      <td>SCIORILLI BORRELLI</td>\n",
       "      <td>RAFFAELE</td>\n",
       "      <td>1958-06-18</td>\n",
       "      <td>1963-05-15</td>\n",
       "      <td>NaN</td>\n",
       "      <td>NaN</td>\n",
       "    </tr>\n",
       "    <tr>\n",
       "      <th>5836</th>\n",
       "      <td>http://dati.camera.it/ocd/persona.rdf/p9980</td>\n",
       "      <td>RE</td>\n",
       "      <td>GIUSEPPINA</td>\n",
       "      <td>1958-06-06</td>\n",
       "      <td>1963-05-15</td>\n",
       "      <td>NaN</td>\n",
       "      <td>NaN</td>\n",
       "    </tr>\n",
       "    <tr>\n",
       "      <th>16072</th>\n",
       "      <td>http://dati.camera.it/ocd/persona.rdf/p300707</td>\n",
       "      <td>BO</td>\n",
       "      <td>GIORGIO</td>\n",
       "      <td>1958-06-12</td>\n",
       "      <td>1963-05-15</td>\n",
       "      <td>NaN</td>\n",
       "      <td>NaN</td>\n",
       "    </tr>\n",
       "  </tbody>\n",
       "</table>\n",
       "</div>"
      ],
      "text/plain": [
       "                                             persona             surname  \\\n",
       "46      http://dati.camera.it/ocd/persona.rdf/p10330  SCIORILLI BORRELLI   \n",
       "5836     http://dati.camera.it/ocd/persona.rdf/p9980                  RE   \n",
       "16072  http://dati.camera.it/ocd/persona.rdf/p300707                  BO   \n",
       "\n",
       "             name dataInizio   dataFine  carica  nomeOrganoGoverno  \n",
       "46       RAFFAELE 1958-06-18 1963-05-15     NaN                NaN  \n",
       "5836   GIUSEPPINA 1958-06-06 1963-05-15     NaN                NaN  \n",
       "16072     GIORGIO 1958-06-12 1963-05-15     NaN                NaN  "
      ]
     },
     "execution_count": 43,
     "metadata": {},
     "output_type": "execute_result"
    }
   ],
   "source": [
    "date = filtered_personnel[(filtered_personnel[\"dataInizio\"] <= text2.iloc[1]['date']) & (filtered_personnel[\"dataFine\"] >= text2.iloc[1]['date'])]\n",
    "sur = find_by_surname(t.upper(),date,False)\n",
    "print(sur)\n",
    "if len(sur['surname'].value_counts()) > 1:\n",
    "    word = regex.sub('', t.upper()).split()\n",
    "    sur2 = pd.DataFrame({'A' : []})\n",
    "    i = 0\n",
    "    while(sur2.empty and i < 20 and i < len(word)):\n",
    "        i+=1\n",
    "        sur2 = find_by_surname(' '.join(word[0:i]),sur, False)\n",
    "    sur = sur2\n",
    "sur"
   ]
  },
  {
   "cell_type": "code",
   "execution_count": 112,
   "metadata": {},
   "outputs": [
    {
     "data": {
      "text/html": [
       "<div>\n",
       "<style scoped>\n",
       "    .dataframe tbody tr th:only-of-type {\n",
       "        vertical-align: middle;\n",
       "    }\n",
       "\n",
       "    .dataframe tbody tr th {\n",
       "        vertical-align: top;\n",
       "    }\n",
       "\n",
       "    .dataframe thead th {\n",
       "        text-align: right;\n",
       "    }\n",
       "</style>\n",
       "<table border=\"1\" class=\"dataframe\">\n",
       "  <thead>\n",
       "    <tr style=\"text-align: right;\">\n",
       "      <th></th>\n",
       "      <th>persona</th>\n",
       "      <th>surname</th>\n",
       "      <th>name</th>\n",
       "      <th>dataInizio</th>\n",
       "      <th>dataFine</th>\n",
       "      <th>carica</th>\n",
       "      <th>nomeOrganoGoverno</th>\n",
       "    </tr>\n",
       "  </thead>\n",
       "  <tbody>\n",
       "    <tr>\n",
       "      <th>4798</th>\n",
       "      <td>http://dati.camera.it/ocd/persona.rdf/p6490</td>\n",
       "      <td>ARCAINI</td>\n",
       "      <td>GIUSEPPE</td>\n",
       "      <td>1953-06-16</td>\n",
       "      <td>1958-06-11</td>\n",
       "      <td>NaN</td>\n",
       "      <td>NaN</td>\n",
       "    </tr>\n",
       "    <tr>\n",
       "      <th>12335</th>\n",
       "      <td>http://dati.camera.it/ocd/persona.rdf/p6490</td>\n",
       "      <td>ARCAINI</td>\n",
       "      <td>GIUSEPPE</td>\n",
       "      <td>1954-02-11</td>\n",
       "      <td>1955-07-06</td>\n",
       "      <td>SOTTOSEGRETARIO DI STATO</td>\n",
       "      <td>MINISTERO DEL TESORO</td>\n",
       "    </tr>\n",
       "  </tbody>\n",
       "</table>\n",
       "</div>"
      ],
      "text/plain": [
       "                                           persona  surname      name  \\\n",
       "4798   http://dati.camera.it/ocd/persona.rdf/p6490  ARCAINI  GIUSEPPE   \n",
       "12335  http://dati.camera.it/ocd/persona.rdf/p6490  ARCAINI  GIUSEPPE   \n",
       "\n",
       "      dataInizio   dataFine                    carica     nomeOrganoGoverno  \n",
       "4798  1953-06-16 1958-06-11                       NaN                   NaN  \n",
       "12335 1954-02-11 1955-07-06  SOTTOSEGRETARIO DI STATO  MINISTERO DEL TESORO  "
      ]
     },
     "execution_count": 112,
     "metadata": {},
     "output_type": "execute_result"
    }
   ],
   "source": [
    "find_by_surname(' '.join(word[0:1]),sur,False)"
   ]
  },
  {
   "cell_type": "markdown",
   "metadata": {
    "tags": []
   },
   "source": [
    "## KL-divergence"
   ]
  },
  {
   "cell_type": "code",
   "execution_count": null,
   "metadata": {},
   "outputs": [],
   "source": [
    "# vocabulary - list of all words or can i use a list of names/surnames\n",
    "def s(e,m,vocab):\n",
    "    sum = 0\n",
    "    for w in vocab:\n",
    "        #pm = p(w|theta_m)\n",
    "        #pe = p(w|theta_e)\n",
    "        #sum += pm * log(pm/pe)\n",
    "    sum = sum*(-1)\n",
    "theta_m = 1\n",
    "theta_e = 1"
   ]
  },
  {
   "cell_type": "markdown",
   "metadata": {},
   "source": [
    "## Maximum entropy Markov model\n",
    "aka Maximum entropy\n",
    "\n",
    "aka maxent\n",
    "\n",
    "(also in nltk)"
   ]
  },
  {
   "cell_type": "code",
   "execution_count": null,
   "metadata": {
    "tags": []
   },
   "outputs": [],
   "source": []
  },
  {
   "cell_type": "code",
   "execution_count": 18,
   "metadata": {
    "tags": []
   },
   "outputs": [],
   "source": [
    "split_df = np.array_split(text, 1000)"
   ]
  },
  {
   "cell_type": "code",
   "execution_count": 26,
   "metadata": {},
   "outputs": [],
   "source": [
    "def evaluation(row):\n",
    "    import pandas as pd\n",
    "    import numpy as np\n",
    "    import re\n",
    "    import os\n",
    "    import sys\n",
    "    sys.path.insert(0, 'Desktop/Unimi/information retriveal/project/corpus (Alfio)/inforet-project/')\n",
    "    #os.chdir('Desktop/Unimi/information retriveal/project/corpus (Alfio)/inforet-project/')\n",
    "    import segment\n",
    "    import segment_sur\n",
    "    import segment2_sur\n",
    "    from collections import Counter\n",
    "    \n",
    "    \n",
    "    #l = len(text.index)\n",
    "    res = []\n",
    "    errors = []\n",
    "    \n",
    "    global regex\n",
    "    regex = re.compile(\"[^a-zA-Z -']\")\n",
    "    \n",
    "\n",
    "    #for index, row in text.iterrows():\n",
    "    #DEBUG\n",
    "    #if index%100==0:\n",
    "    #clear_output(wait=True)\n",
    "    #print('done '+str(index)+'/'+str(l)+'    '+str((index/l)*100)+'%')\n",
    "    #DEBUG\n",
    "    global phase\n",
    "    try:\n",
    "        person = find_person(row['text'], row['date'], filtered_personnel)\n",
    "    except Exception as ex:\n",
    "        #errors.append({'index':index, 'text':row['text'], 'phase':phase, 'ex':ex})\n",
    "        errors.append({'text':row['text'], 'phase':phase, 'ex':ex})\n",
    "        return pd.DataFrame.from_dict(res), pd.DataFrame.from_dict(errors)\n",
    "        #continue\n",
    "    predicted = filtered_personnel.loc[filtered_personnel['persona'] == person]\n",
    "    if person is not None:\n",
    "        pred_surname = predicted.iloc[0]['surname']\n",
    "        pred_name = predicted.iloc[0]['name']\n",
    "    else:\n",
    "        pred_surname = None\n",
    "        pred_name = None\n",
    "    if row[\"persona\"] == person:\n",
    "        correct = True\n",
    "    else:\n",
    "        correct = False\n",
    "\n",
    "    res.append({\"True persona\": row[\"persona\"], \"True name\": row[\"name\"], \"True surname\": row[\"surname\"],\n",
    "                \"Text\":row[\"text\"],  \"Correct\":correct, \"Predicted persona\": person,\n",
    "                \"Predicted surname\": pred_surname, \n",
    "                \"Predicted name\": pred_name})\n",
    "\n",
    "    #clear_output(wait=True)\n",
    "    #print('Done')\n",
    "    return pd.DataFrame.from_dict(res), pd.DataFrame.from_dict(errors)"
   ]
  },
  {
   "cell_type": "code",
   "execution_count": 20,
   "metadata": {
    "tags": []
   },
   "outputs": [
    {
     "data": {
      "text/plain": [
       "[]"
      ]
     },
     "execution_count": 20,
     "metadata": {},
     "output_type": "execute_result"
    }
   ],
   "source": [
    "import ipyparallel as ipp\n",
    "rc = ipp.Client()\n",
    "#dv = rc[:]\n",
    "#dv.push({'filtered_personnel':filtered_personnel})\n",
    "rc.ids"
   ]
  },
  {
   "cell_type": "code",
   "execution_count": 23,
   "metadata": {},
   "outputs": [
    {
     "data": {
      "text/plain": [
       "[0, 1, 2, 3, 4, 5, 6, 7]"
      ]
     },
     "execution_count": 23,
     "metadata": {},
     "output_type": "execute_result"
    }
   ],
   "source": [
    "rc.ids"
   ]
  },
  {
   "cell_type": "markdown",
   "metadata": {},
   "source": [
    "dview = rc[:]\n",
    "def par_init():\n",
    "    import os\n",
    "    import sys\n",
    "    sys.path.insert(0, 'Desktop/Unimi/information retriveal/project/corpus (Alfio)/inforet-project/')\n",
    "    os.chdir('Desktop/Unimi/information retriveal/project/corpus (Alfio)/inforet-project/')\n",
    "dview.apply(par_init)\n",
    "dview.wait()"
   ]
  },
  {
   "cell_type": "code",
   "execution_count": 24,
   "metadata": {
    "tags": []
   },
   "outputs": [],
   "source": [
    "rc[:].push(dict(\n",
    "    words = words,\n",
    "    P = P,\n",
    "    correction = correction,\n",
    "    candidates = candidates,\n",
    "    known = known,\n",
    "    edits1 = edits1,\n",
    "    edits2 = edits2,\n",
    "    filtered_personnel=filtered_personnel,\n",
    "    find_person = find_person,\n",
    "    find_by_surname = find_by_surname,\n",
    "    find_by_surname_2 = find_by_surname_2,\n",
    "    find_by_name = find_by_name,\n",
    "    SURNAME = SURNAME,\n",
    "    NAME = NAME,\n",
    "    TEXT = TEXT,\n",
    "    WORDS = WORDS\n",
    "))\n",
    "view = rc.load_balanced_view()"
   ]
  },
  {
   "cell_type": "code",
   "execution_count": 27,
   "metadata": {
    "scrolled": true,
    "tags": []
   },
   "outputs": [
    {
     "name": "stdout",
     "output_type": "stream",
     "text": [
      "Done: 999/1000\n",
      "CPU times: total: 1h 39s\n",
      "Wall time: 8h 57min 51s\n"
     ]
    }
   ],
   "source": [
    "%%time\n",
    "\n",
    "for i, df in enumerate(split_df[501:]):\n",
    "    ar = view.map_async(evaluation, [row for index, row in df.iterrows()])\n",
    "    ar.wait() # Wait until all tasks are done.\n",
    "    #async_results.append(ar)\n",
    "    results = pd.DataFrame({'A' : []})\n",
    "    for res in ar:\n",
    "        #if len(res[1])>0:\n",
    "            #print(res[1])\n",
    "        results = pd.concat([results, res[0]], ignore_index=True)\n",
    "    results = results.drop(columns=['A'])\n",
    "    file_name = './result2/res'+str(i+501)+'.csv'\n",
    "    results.to_csv(file_name,index=False)\n",
    "    clear_output(wait=True)\n",
    "    print('Done: ' + str(i+501) + '/' + str(len(split_df)))"
   ]
  },
  {
   "cell_type": "code",
   "execution_count": null,
   "metadata": {},
   "outputs": [],
   "source": []
  }
 ],
 "metadata": {
  "kernelspec": {
   "display_name": "Python 3 (ipykernel)",
   "language": "python",
   "name": "python3"
  },
  "language_info": {
   "codemirror_mode": {
    "name": "ipython",
    "version": 3
   },
   "file_extension": ".py",
   "mimetype": "text/x-python",
   "name": "python",
   "nbconvert_exporter": "python",
   "pygments_lexer": "ipython3",
   "version": "3.9.7"
  },
  "vscode": {
   "interpreter": {
    "hash": "cef9f53e7f2c9fe3fca6152fad1955cc093dd0ba59de1f8d540d9230747dca1a"
   }
  }
 },
 "nbformat": 4,
 "nbformat_minor": 4
}
